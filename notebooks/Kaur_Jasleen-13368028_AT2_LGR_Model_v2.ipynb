{
 "cells": [
  {
   "cell_type": "markdown",
   "id": "46c22f06",
   "metadata": {},
   "source": [
    "# BEER TYPE PREDICTION - ONLY API PREDICTORS USED"
   ]
  },
  {
   "cell_type": "markdown",
   "id": "d803d16f",
   "metadata": {},
   "source": [
    "# 1. Load Packages"
   ]
  },
  {
   "cell_type": "code",
   "execution_count": 386,
   "id": "50364673",
   "metadata": {},
   "outputs": [],
   "source": [
    "# Load the packages needed for Logistic Regression Modelling upfront\n",
    "import pandas as pd\n",
    "import numpy as np\n",
    "\n",
    "import category_encoders as ce\n",
    "\n",
    "from sklearn.preprocessing import StandardScaler, OneHotEncoder\n",
    "from sklearn.preprocessing import LabelEncoder\n",
    "\n",
    "from sklearn.model_selection import train_test_split, cross_val_score, GridSearchCV\n",
    "\n",
    "from sklearn.linear_model import LogisticRegression\n",
    "\n",
    "from sklearn.metrics import roc_auc_score\n",
    "from sklearn.metrics import accuracy_score\n",
    "\n",
    "from joblib import dump"
   ]
  },
  {
   "cell_type": "code",
   "execution_count": 103,
   "id": "9b925775",
   "metadata": {},
   "outputs": [
    {
     "name": "stdout",
     "output_type": "stream",
     "text": [
      "1.4.1\n"
     ]
    }
   ],
   "source": [
    "print(pd.__version__)"
   ]
  },
  {
   "cell_type": "markdown",
   "id": "2700819d",
   "metadata": {},
   "source": [
    "# 2. Load the data"
   ]
  },
  {
   "cell_type": "code",
   "execution_count": 387,
   "id": "01f6d608",
   "metadata": {},
   "outputs": [],
   "source": [
    "# Load the training data set\n",
    "data = pd.read_csv('/Users/jasle1/Desktop/MDSI/ADSI/AT_2/adsi_at2/data/raw/beer_reviews.csv')"
   ]
  },
  {
   "cell_type": "markdown",
   "id": "452ea290",
   "metadata": {},
   "source": [
    "# 3. Explore the Data"
   ]
  },
  {
   "cell_type": "code",
   "execution_count": 115,
   "id": "032a792b",
   "metadata": {},
   "outputs": [
    {
     "data": {
      "text/plain": [
       "(1586614, 13)"
      ]
     },
     "execution_count": 115,
     "metadata": {},
     "output_type": "execute_result"
    }
   ],
   "source": [
    "# check rows and columns of the training set\n",
    "data.shape"
   ]
  },
  {
   "cell_type": "code",
   "execution_count": 116,
   "id": "8b0e9088",
   "metadata": {},
   "outputs": [
    {
     "data": {
      "text/html": [
       "<div>\n",
       "<style scoped>\n",
       "    .dataframe tbody tr th:only-of-type {\n",
       "        vertical-align: middle;\n",
       "    }\n",
       "\n",
       "    .dataframe tbody tr th {\n",
       "        vertical-align: top;\n",
       "    }\n",
       "\n",
       "    .dataframe thead th {\n",
       "        text-align: right;\n",
       "    }\n",
       "</style>\n",
       "<table border=\"1\" class=\"dataframe\">\n",
       "  <thead>\n",
       "    <tr style=\"text-align: right;\">\n",
       "      <th></th>\n",
       "      <th>brewery_id</th>\n",
       "      <th>brewery_name</th>\n",
       "      <th>review_time</th>\n",
       "      <th>review_overall</th>\n",
       "      <th>review_aroma</th>\n",
       "      <th>review_appearance</th>\n",
       "      <th>review_profilename</th>\n",
       "      <th>beer_style</th>\n",
       "      <th>review_palate</th>\n",
       "      <th>review_taste</th>\n",
       "      <th>beer_name</th>\n",
       "      <th>beer_abv</th>\n",
       "      <th>beer_beerid</th>\n",
       "    </tr>\n",
       "  </thead>\n",
       "  <tbody>\n",
       "    <tr>\n",
       "      <th>0</th>\n",
       "      <td>10325</td>\n",
       "      <td>Vecchio Birraio</td>\n",
       "      <td>1234817823</td>\n",
       "      <td>1.5</td>\n",
       "      <td>2.0</td>\n",
       "      <td>2.5</td>\n",
       "      <td>stcules</td>\n",
       "      <td>Hefeweizen</td>\n",
       "      <td>1.5</td>\n",
       "      <td>1.5</td>\n",
       "      <td>Sausa Weizen</td>\n",
       "      <td>5.0</td>\n",
       "      <td>47986</td>\n",
       "    </tr>\n",
       "    <tr>\n",
       "      <th>1</th>\n",
       "      <td>10325</td>\n",
       "      <td>Vecchio Birraio</td>\n",
       "      <td>1235915097</td>\n",
       "      <td>3.0</td>\n",
       "      <td>2.5</td>\n",
       "      <td>3.0</td>\n",
       "      <td>stcules</td>\n",
       "      <td>English Strong Ale</td>\n",
       "      <td>3.0</td>\n",
       "      <td>3.0</td>\n",
       "      <td>Red Moon</td>\n",
       "      <td>6.2</td>\n",
       "      <td>48213</td>\n",
       "    </tr>\n",
       "    <tr>\n",
       "      <th>2</th>\n",
       "      <td>10325</td>\n",
       "      <td>Vecchio Birraio</td>\n",
       "      <td>1235916604</td>\n",
       "      <td>3.0</td>\n",
       "      <td>2.5</td>\n",
       "      <td>3.0</td>\n",
       "      <td>stcules</td>\n",
       "      <td>Foreign / Export Stout</td>\n",
       "      <td>3.0</td>\n",
       "      <td>3.0</td>\n",
       "      <td>Black Horse Black Beer</td>\n",
       "      <td>6.5</td>\n",
       "      <td>48215</td>\n",
       "    </tr>\n",
       "    <tr>\n",
       "      <th>3</th>\n",
       "      <td>10325</td>\n",
       "      <td>Vecchio Birraio</td>\n",
       "      <td>1234725145</td>\n",
       "      <td>3.0</td>\n",
       "      <td>3.0</td>\n",
       "      <td>3.5</td>\n",
       "      <td>stcules</td>\n",
       "      <td>German Pilsener</td>\n",
       "      <td>2.5</td>\n",
       "      <td>3.0</td>\n",
       "      <td>Sausa Pils</td>\n",
       "      <td>5.0</td>\n",
       "      <td>47969</td>\n",
       "    </tr>\n",
       "    <tr>\n",
       "      <th>4</th>\n",
       "      <td>1075</td>\n",
       "      <td>Caldera Brewing Company</td>\n",
       "      <td>1293735206</td>\n",
       "      <td>4.0</td>\n",
       "      <td>4.5</td>\n",
       "      <td>4.0</td>\n",
       "      <td>johnmichaelsen</td>\n",
       "      <td>American Double / Imperial IPA</td>\n",
       "      <td>4.0</td>\n",
       "      <td>4.5</td>\n",
       "      <td>Cauldron DIPA</td>\n",
       "      <td>7.7</td>\n",
       "      <td>64883</td>\n",
       "    </tr>\n",
       "  </tbody>\n",
       "</table>\n",
       "</div>"
      ],
      "text/plain": [
       "   brewery_id             brewery_name  review_time  review_overall  \\\n",
       "0       10325          Vecchio Birraio   1234817823             1.5   \n",
       "1       10325          Vecchio Birraio   1235915097             3.0   \n",
       "2       10325          Vecchio Birraio   1235916604             3.0   \n",
       "3       10325          Vecchio Birraio   1234725145             3.0   \n",
       "4        1075  Caldera Brewing Company   1293735206             4.0   \n",
       "\n",
       "   review_aroma  review_appearance review_profilename  \\\n",
       "0           2.0                2.5            stcules   \n",
       "1           2.5                3.0            stcules   \n",
       "2           2.5                3.0            stcules   \n",
       "3           3.0                3.5            stcules   \n",
       "4           4.5                4.0     johnmichaelsen   \n",
       "\n",
       "                       beer_style  review_palate  review_taste  \\\n",
       "0                      Hefeweizen            1.5           1.5   \n",
       "1              English Strong Ale            3.0           3.0   \n",
       "2          Foreign / Export Stout            3.0           3.0   \n",
       "3                 German Pilsener            2.5           3.0   \n",
       "4  American Double / Imperial IPA            4.0           4.5   \n",
       "\n",
       "                beer_name  beer_abv  beer_beerid  \n",
       "0            Sausa Weizen       5.0        47986  \n",
       "1                Red Moon       6.2        48213  \n",
       "2  Black Horse Black Beer       6.5        48215  \n",
       "3              Sausa Pils       5.0        47969  \n",
       "4           Cauldron DIPA       7.7        64883  "
      ]
     },
     "execution_count": 116,
     "metadata": {},
     "output_type": "execute_result"
    }
   ],
   "source": [
    "data.head()"
   ]
  },
  {
   "cell_type": "code",
   "execution_count": 117,
   "id": "2436070c",
   "metadata": {},
   "outputs": [
    {
     "name": "stdout",
     "output_type": "stream",
     "text": [
      "<class 'pandas.core.frame.DataFrame'>\n",
      "RangeIndex: 1586614 entries, 0 to 1586613\n",
      "Data columns (total 13 columns):\n",
      " #   Column              Non-Null Count    Dtype  \n",
      "---  ------              --------------    -----  \n",
      " 0   brewery_id          1586614 non-null  int64  \n",
      " 1   brewery_name        1586599 non-null  object \n",
      " 2   review_time         1586614 non-null  int64  \n",
      " 3   review_overall      1586614 non-null  float64\n",
      " 4   review_aroma        1586614 non-null  float64\n",
      " 5   review_appearance   1586614 non-null  float64\n",
      " 6   review_profilename  1586266 non-null  object \n",
      " 7   beer_style          1586614 non-null  object \n",
      " 8   review_palate       1586614 non-null  float64\n",
      " 9   review_taste        1586614 non-null  float64\n",
      " 10  beer_name           1586614 non-null  object \n",
      " 11  beer_abv            1518829 non-null  float64\n",
      " 12  beer_beerid         1586614 non-null  int64  \n",
      "dtypes: float64(6), int64(3), object(4)\n",
      "memory usage: 157.4+ MB\n"
     ]
    }
   ],
   "source": [
    "data.info()"
   ]
  },
  {
   "cell_type": "code",
   "execution_count": 118,
   "id": "284b39a1",
   "metadata": {},
   "outputs": [
    {
     "data": {
      "text/plain": [
       "Index(['brewery_id', 'brewery_name', 'review_time', 'review_overall',\n",
       "       'review_aroma', 'review_appearance', 'review_profilename', 'beer_style',\n",
       "       'review_palate', 'review_taste', 'beer_name', 'beer_abv',\n",
       "       'beer_beerid'],\n",
       "      dtype='object')"
      ]
     },
     "execution_count": 118,
     "metadata": {},
     "output_type": "execute_result"
    }
   ],
   "source": [
    "data.columns"
   ]
  },
  {
   "cell_type": "code",
   "execution_count": 119,
   "id": "1c9ed29d",
   "metadata": {},
   "outputs": [
    {
     "data": {
      "text/html": [
       "<div>\n",
       "<style scoped>\n",
       "    .dataframe tbody tr th:only-of-type {\n",
       "        vertical-align: middle;\n",
       "    }\n",
       "\n",
       "    .dataframe tbody tr th {\n",
       "        vertical-align: top;\n",
       "    }\n",
       "\n",
       "    .dataframe thead th {\n",
       "        text-align: right;\n",
       "    }\n",
       "</style>\n",
       "<table border=\"1\" class=\"dataframe\">\n",
       "  <thead>\n",
       "    <tr style=\"text-align: right;\">\n",
       "      <th></th>\n",
       "      <th>brewery_id</th>\n",
       "      <th>review_time</th>\n",
       "      <th>review_overall</th>\n",
       "      <th>review_aroma</th>\n",
       "      <th>review_appearance</th>\n",
       "      <th>review_palate</th>\n",
       "      <th>review_taste</th>\n",
       "      <th>beer_abv</th>\n",
       "      <th>beer_beerid</th>\n",
       "    </tr>\n",
       "  </thead>\n",
       "  <tbody>\n",
       "    <tr>\n",
       "      <th>count</th>\n",
       "      <td>1.586614e+06</td>\n",
       "      <td>1.586614e+06</td>\n",
       "      <td>1.586614e+06</td>\n",
       "      <td>1.586614e+06</td>\n",
       "      <td>1.586614e+06</td>\n",
       "      <td>1.586614e+06</td>\n",
       "      <td>1.586614e+06</td>\n",
       "      <td>1.518829e+06</td>\n",
       "      <td>1.586614e+06</td>\n",
       "    </tr>\n",
       "    <tr>\n",
       "      <th>mean</th>\n",
       "      <td>3.130099e+03</td>\n",
       "      <td>1.224089e+09</td>\n",
       "      <td>3.815581e+00</td>\n",
       "      <td>3.735636e+00</td>\n",
       "      <td>3.841642e+00</td>\n",
       "      <td>3.743701e+00</td>\n",
       "      <td>3.792860e+00</td>\n",
       "      <td>7.042387e+00</td>\n",
       "      <td>2.171279e+04</td>\n",
       "    </tr>\n",
       "    <tr>\n",
       "      <th>std</th>\n",
       "      <td>5.578104e+03</td>\n",
       "      <td>7.654427e+07</td>\n",
       "      <td>7.206219e-01</td>\n",
       "      <td>6.976167e-01</td>\n",
       "      <td>6.160928e-01</td>\n",
       "      <td>6.822184e-01</td>\n",
       "      <td>7.319696e-01</td>\n",
       "      <td>2.322526e+00</td>\n",
       "      <td>2.181834e+04</td>\n",
       "    </tr>\n",
       "    <tr>\n",
       "      <th>min</th>\n",
       "      <td>1.000000e+00</td>\n",
       "      <td>8.406720e+08</td>\n",
       "      <td>0.000000e+00</td>\n",
       "      <td>1.000000e+00</td>\n",
       "      <td>0.000000e+00</td>\n",
       "      <td>1.000000e+00</td>\n",
       "      <td>1.000000e+00</td>\n",
       "      <td>1.000000e-02</td>\n",
       "      <td>3.000000e+00</td>\n",
       "    </tr>\n",
       "    <tr>\n",
       "      <th>25%</th>\n",
       "      <td>1.430000e+02</td>\n",
       "      <td>1.173224e+09</td>\n",
       "      <td>3.500000e+00</td>\n",
       "      <td>3.500000e+00</td>\n",
       "      <td>3.500000e+00</td>\n",
       "      <td>3.500000e+00</td>\n",
       "      <td>3.500000e+00</td>\n",
       "      <td>5.200000e+00</td>\n",
       "      <td>1.717000e+03</td>\n",
       "    </tr>\n",
       "    <tr>\n",
       "      <th>50%</th>\n",
       "      <td>4.290000e+02</td>\n",
       "      <td>1.239203e+09</td>\n",
       "      <td>4.000000e+00</td>\n",
       "      <td>4.000000e+00</td>\n",
       "      <td>4.000000e+00</td>\n",
       "      <td>4.000000e+00</td>\n",
       "      <td>4.000000e+00</td>\n",
       "      <td>6.500000e+00</td>\n",
       "      <td>1.390600e+04</td>\n",
       "    </tr>\n",
       "    <tr>\n",
       "      <th>75%</th>\n",
       "      <td>2.372000e+03</td>\n",
       "      <td>1.288568e+09</td>\n",
       "      <td>4.500000e+00</td>\n",
       "      <td>4.000000e+00</td>\n",
       "      <td>4.000000e+00</td>\n",
       "      <td>4.000000e+00</td>\n",
       "      <td>4.500000e+00</td>\n",
       "      <td>8.500000e+00</td>\n",
       "      <td>3.944100e+04</td>\n",
       "    </tr>\n",
       "    <tr>\n",
       "      <th>max</th>\n",
       "      <td>2.800300e+04</td>\n",
       "      <td>1.326285e+09</td>\n",
       "      <td>5.000000e+00</td>\n",
       "      <td>5.000000e+00</td>\n",
       "      <td>5.000000e+00</td>\n",
       "      <td>5.000000e+00</td>\n",
       "      <td>5.000000e+00</td>\n",
       "      <td>5.770000e+01</td>\n",
       "      <td>7.731700e+04</td>\n",
       "    </tr>\n",
       "  </tbody>\n",
       "</table>\n",
       "</div>"
      ],
      "text/plain": [
       "         brewery_id   review_time  review_overall  review_aroma  \\\n",
       "count  1.586614e+06  1.586614e+06    1.586614e+06  1.586614e+06   \n",
       "mean   3.130099e+03  1.224089e+09    3.815581e+00  3.735636e+00   \n",
       "std    5.578104e+03  7.654427e+07    7.206219e-01  6.976167e-01   \n",
       "min    1.000000e+00  8.406720e+08    0.000000e+00  1.000000e+00   \n",
       "25%    1.430000e+02  1.173224e+09    3.500000e+00  3.500000e+00   \n",
       "50%    4.290000e+02  1.239203e+09    4.000000e+00  4.000000e+00   \n",
       "75%    2.372000e+03  1.288568e+09    4.500000e+00  4.000000e+00   \n",
       "max    2.800300e+04  1.326285e+09    5.000000e+00  5.000000e+00   \n",
       "\n",
       "       review_appearance  review_palate  review_taste      beer_abv  \\\n",
       "count       1.586614e+06   1.586614e+06  1.586614e+06  1.518829e+06   \n",
       "mean        3.841642e+00   3.743701e+00  3.792860e+00  7.042387e+00   \n",
       "std         6.160928e-01   6.822184e-01  7.319696e-01  2.322526e+00   \n",
       "min         0.000000e+00   1.000000e+00  1.000000e+00  1.000000e-02   \n",
       "25%         3.500000e+00   3.500000e+00  3.500000e+00  5.200000e+00   \n",
       "50%         4.000000e+00   4.000000e+00  4.000000e+00  6.500000e+00   \n",
       "75%         4.000000e+00   4.000000e+00  4.500000e+00  8.500000e+00   \n",
       "max         5.000000e+00   5.000000e+00  5.000000e+00  5.770000e+01   \n",
       "\n",
       "        beer_beerid  \n",
       "count  1.586614e+06  \n",
       "mean   2.171279e+04  \n",
       "std    2.181834e+04  \n",
       "min    3.000000e+00  \n",
       "25%    1.717000e+03  \n",
       "50%    1.390600e+04  \n",
       "75%    3.944100e+04  \n",
       "max    7.731700e+04  "
      ]
     },
     "execution_count": 119,
     "metadata": {},
     "output_type": "execute_result"
    }
   ],
   "source": [
    "data.describe()"
   ]
  },
  {
   "cell_type": "code",
   "execution_count": 120,
   "id": "284cef39",
   "metadata": {},
   "outputs": [
    {
     "data": {
      "text/plain": [
       "104"
      ]
     },
     "execution_count": 120,
     "metadata": {},
     "output_type": "execute_result"
    }
   ],
   "source": [
    "# count the beer types in the data set\n",
    "data['beer_style'].nunique()"
   ]
  },
  {
   "cell_type": "code",
   "execution_count": 121,
   "id": "d3615a18",
   "metadata": {},
   "outputs": [
    {
     "data": {
      "text/plain": [
       "American IPA                        117586\n",
       "American Double / Imperial IPA       85977\n",
       "American Pale Ale (APA)              63469\n",
       "Russian Imperial Stout               54129\n",
       "American Double / Imperial Stout     50705\n",
       "                                     ...  \n",
       "Gose                                   686\n",
       "Faro                                   609\n",
       "Roggenbier                             466\n",
       "Kvass                                  297\n",
       "Happoshu                               241\n",
       "Name: beer_style, Length: 104, dtype: int64"
      ]
     },
     "execution_count": 121,
     "metadata": {},
     "output_type": "execute_result"
    }
   ],
   "source": [
    "# check the spread of observations\n",
    "data['beer_style'].value_counts()"
   ]
  },
  {
   "cell_type": "code",
   "execution_count": 122,
   "id": "47dceaeb",
   "metadata": {},
   "outputs": [
    {
     "data": {
      "text/plain": [
       "brewery_id                0\n",
       "brewery_name             15\n",
       "review_time               0\n",
       "review_overall            0\n",
       "review_aroma              0\n",
       "review_appearance         0\n",
       "review_profilename      348\n",
       "beer_style                0\n",
       "review_palate             0\n",
       "review_taste              0\n",
       "beer_name                 0\n",
       "beer_abv              67785\n",
       "beer_beerid               0\n",
       "dtype: int64"
      ]
     },
     "execution_count": 122,
     "metadata": {},
     "output_type": "execute_result"
    }
   ],
   "source": [
    "# check for missing/null values in the dataset\n",
    "data.isnull().sum()"
   ]
  },
  {
   "cell_type": "markdown",
   "id": "cfc7d2da",
   "metadata": {},
   "source": [
    "# 4. Transform the Data"
   ]
  },
  {
   "cell_type": "markdown",
   "id": "d0ac568f",
   "metadata": {},
   "source": [
    "## 4.1 Create a copy of the raw dataset"
   ]
  },
  {
   "cell_type": "code",
   "execution_count": 388,
   "id": "4f588145",
   "metadata": {},
   "outputs": [],
   "source": [
    "# create a copy of dataset for transformations\n",
    "df = data.copy()\n",
    "\n",
    "#df.head()"
   ]
  },
  {
   "cell_type": "markdown",
   "id": "4fa4eab6",
   "metadata": {},
   "source": [
    "## 4.2 Drop the 2 Identifier columns and save in the interim folder"
   ]
  },
  {
   "cell_type": "code",
   "execution_count": 389,
   "id": "56536e30",
   "metadata": {},
   "outputs": [
    {
     "data": {
      "text/html": [
       "<div>\n",
       "<style scoped>\n",
       "    .dataframe tbody tr th:only-of-type {\n",
       "        vertical-align: middle;\n",
       "    }\n",
       "\n",
       "    .dataframe tbody tr th {\n",
       "        vertical-align: top;\n",
       "    }\n",
       "\n",
       "    .dataframe thead th {\n",
       "        text-align: right;\n",
       "    }\n",
       "</style>\n",
       "<table border=\"1\" class=\"dataframe\">\n",
       "  <thead>\n",
       "    <tr style=\"text-align: right;\">\n",
       "      <th></th>\n",
       "      <th>brewery_name</th>\n",
       "      <th>review_time</th>\n",
       "      <th>review_overall</th>\n",
       "      <th>review_aroma</th>\n",
       "      <th>review_appearance</th>\n",
       "      <th>review_profilename</th>\n",
       "      <th>beer_style</th>\n",
       "      <th>review_palate</th>\n",
       "      <th>review_taste</th>\n",
       "      <th>beer_name</th>\n",
       "      <th>beer_abv</th>\n",
       "    </tr>\n",
       "  </thead>\n",
       "  <tbody>\n",
       "    <tr>\n",
       "      <th>0</th>\n",
       "      <td>Vecchio Birraio</td>\n",
       "      <td>1234817823</td>\n",
       "      <td>1.5</td>\n",
       "      <td>2.0</td>\n",
       "      <td>2.5</td>\n",
       "      <td>stcules</td>\n",
       "      <td>Hefeweizen</td>\n",
       "      <td>1.5</td>\n",
       "      <td>1.5</td>\n",
       "      <td>Sausa Weizen</td>\n",
       "      <td>5.0</td>\n",
       "    </tr>\n",
       "    <tr>\n",
       "      <th>1</th>\n",
       "      <td>Vecchio Birraio</td>\n",
       "      <td>1235915097</td>\n",
       "      <td>3.0</td>\n",
       "      <td>2.5</td>\n",
       "      <td>3.0</td>\n",
       "      <td>stcules</td>\n",
       "      <td>English Strong Ale</td>\n",
       "      <td>3.0</td>\n",
       "      <td>3.0</td>\n",
       "      <td>Red Moon</td>\n",
       "      <td>6.2</td>\n",
       "    </tr>\n",
       "    <tr>\n",
       "      <th>2</th>\n",
       "      <td>Vecchio Birraio</td>\n",
       "      <td>1235916604</td>\n",
       "      <td>3.0</td>\n",
       "      <td>2.5</td>\n",
       "      <td>3.0</td>\n",
       "      <td>stcules</td>\n",
       "      <td>Foreign / Export Stout</td>\n",
       "      <td>3.0</td>\n",
       "      <td>3.0</td>\n",
       "      <td>Black Horse Black Beer</td>\n",
       "      <td>6.5</td>\n",
       "    </tr>\n",
       "    <tr>\n",
       "      <th>3</th>\n",
       "      <td>Vecchio Birraio</td>\n",
       "      <td>1234725145</td>\n",
       "      <td>3.0</td>\n",
       "      <td>3.0</td>\n",
       "      <td>3.5</td>\n",
       "      <td>stcules</td>\n",
       "      <td>German Pilsener</td>\n",
       "      <td>2.5</td>\n",
       "      <td>3.0</td>\n",
       "      <td>Sausa Pils</td>\n",
       "      <td>5.0</td>\n",
       "    </tr>\n",
       "    <tr>\n",
       "      <th>4</th>\n",
       "      <td>Caldera Brewing Company</td>\n",
       "      <td>1293735206</td>\n",
       "      <td>4.0</td>\n",
       "      <td>4.5</td>\n",
       "      <td>4.0</td>\n",
       "      <td>johnmichaelsen</td>\n",
       "      <td>American Double / Imperial IPA</td>\n",
       "      <td>4.0</td>\n",
       "      <td>4.5</td>\n",
       "      <td>Cauldron DIPA</td>\n",
       "      <td>7.7</td>\n",
       "    </tr>\n",
       "  </tbody>\n",
       "</table>\n",
       "</div>"
      ],
      "text/plain": [
       "              brewery_name  review_time  review_overall  review_aroma  \\\n",
       "0          Vecchio Birraio   1234817823             1.5           2.0   \n",
       "1          Vecchio Birraio   1235915097             3.0           2.5   \n",
       "2          Vecchio Birraio   1235916604             3.0           2.5   \n",
       "3          Vecchio Birraio   1234725145             3.0           3.0   \n",
       "4  Caldera Brewing Company   1293735206             4.0           4.5   \n",
       "\n",
       "   review_appearance review_profilename                      beer_style  \\\n",
       "0                2.5            stcules                      Hefeweizen   \n",
       "1                3.0            stcules              English Strong Ale   \n",
       "2                3.0            stcules          Foreign / Export Stout   \n",
       "3                3.5            stcules                 German Pilsener   \n",
       "4                4.0     johnmichaelsen  American Double / Imperial IPA   \n",
       "\n",
       "   review_palate  review_taste               beer_name  beer_abv  \n",
       "0            1.5           1.5            Sausa Weizen       5.0  \n",
       "1            3.0           3.0                Red Moon       6.2  \n",
       "2            3.0           3.0  Black Horse Black Beer       6.5  \n",
       "3            2.5           3.0              Sausa Pils       5.0  \n",
       "4            4.0           4.5           Cauldron DIPA       7.7  "
      ]
     },
     "execution_count": 389,
     "metadata": {},
     "output_type": "execute_result"
    }
   ],
   "source": [
    "df.drop(columns=['brewery_id', 'beer_beerid'], axis = 1, inplace=True)\n",
    "\n",
    "df.head()"
   ]
  },
  {
   "cell_type": "code",
   "execution_count": 7,
   "id": "12f07ff5",
   "metadata": {},
   "outputs": [],
   "source": [
    "df.to_csv('/Users/jasle1/Desktop/MDSI/ADSI/AT_2/adsi_at2/data/interim/1_beer_reviews_noIDcolumns.csv', index=False)"
   ]
  },
  {
   "cell_type": "markdown",
   "id": "7a314c2a",
   "metadata": {},
   "source": [
    "## 4.3 Drop columns that have no prediction impact like reviewer details and 'beer_name'"
   ]
  },
  {
   "cell_type": "code",
   "execution_count": 390,
   "id": "aa7ab258",
   "metadata": {},
   "outputs": [
    {
     "data": {
      "text/html": [
       "<div>\n",
       "<style scoped>\n",
       "    .dataframe tbody tr th:only-of-type {\n",
       "        vertical-align: middle;\n",
       "    }\n",
       "\n",
       "    .dataframe tbody tr th {\n",
       "        vertical-align: top;\n",
       "    }\n",
       "\n",
       "    .dataframe thead th {\n",
       "        text-align: right;\n",
       "    }\n",
       "</style>\n",
       "<table border=\"1\" class=\"dataframe\">\n",
       "  <thead>\n",
       "    <tr style=\"text-align: right;\">\n",
       "      <th></th>\n",
       "      <th>brewery_name</th>\n",
       "      <th>review_aroma</th>\n",
       "      <th>review_appearance</th>\n",
       "      <th>beer_style</th>\n",
       "      <th>review_palate</th>\n",
       "      <th>review_taste</th>\n",
       "      <th>beer_abv</th>\n",
       "    </tr>\n",
       "  </thead>\n",
       "  <tbody>\n",
       "    <tr>\n",
       "      <th>0</th>\n",
       "      <td>Vecchio Birraio</td>\n",
       "      <td>2.0</td>\n",
       "      <td>2.5</td>\n",
       "      <td>Hefeweizen</td>\n",
       "      <td>1.5</td>\n",
       "      <td>1.5</td>\n",
       "      <td>5.0</td>\n",
       "    </tr>\n",
       "    <tr>\n",
       "      <th>1</th>\n",
       "      <td>Vecchio Birraio</td>\n",
       "      <td>2.5</td>\n",
       "      <td>3.0</td>\n",
       "      <td>English Strong Ale</td>\n",
       "      <td>3.0</td>\n",
       "      <td>3.0</td>\n",
       "      <td>6.2</td>\n",
       "    </tr>\n",
       "    <tr>\n",
       "      <th>2</th>\n",
       "      <td>Vecchio Birraio</td>\n",
       "      <td>2.5</td>\n",
       "      <td>3.0</td>\n",
       "      <td>Foreign / Export Stout</td>\n",
       "      <td>3.0</td>\n",
       "      <td>3.0</td>\n",
       "      <td>6.5</td>\n",
       "    </tr>\n",
       "    <tr>\n",
       "      <th>3</th>\n",
       "      <td>Vecchio Birraio</td>\n",
       "      <td>3.0</td>\n",
       "      <td>3.5</td>\n",
       "      <td>German Pilsener</td>\n",
       "      <td>2.5</td>\n",
       "      <td>3.0</td>\n",
       "      <td>5.0</td>\n",
       "    </tr>\n",
       "    <tr>\n",
       "      <th>4</th>\n",
       "      <td>Caldera Brewing Company</td>\n",
       "      <td>4.5</td>\n",
       "      <td>4.0</td>\n",
       "      <td>American Double / Imperial IPA</td>\n",
       "      <td>4.0</td>\n",
       "      <td>4.5</td>\n",
       "      <td>7.7</td>\n",
       "    </tr>\n",
       "  </tbody>\n",
       "</table>\n",
       "</div>"
      ],
      "text/plain": [
       "              brewery_name  review_aroma  review_appearance  \\\n",
       "0          Vecchio Birraio           2.0                2.5   \n",
       "1          Vecchio Birraio           2.5                3.0   \n",
       "2          Vecchio Birraio           2.5                3.0   \n",
       "3          Vecchio Birraio           3.0                3.5   \n",
       "4  Caldera Brewing Company           4.5                4.0   \n",
       "\n",
       "                       beer_style  review_palate  review_taste  beer_abv  \n",
       "0                      Hefeweizen            1.5           1.5       5.0  \n",
       "1              English Strong Ale            3.0           3.0       6.2  \n",
       "2          Foreign / Export Stout            3.0           3.0       6.5  \n",
       "3                 German Pilsener            2.5           3.0       5.0  \n",
       "4  American Double / Imperial IPA            4.0           4.5       7.7  "
      ]
     },
     "execution_count": 390,
     "metadata": {},
     "output_type": "execute_result"
    }
   ],
   "source": [
    "drop_col = ['review_time', 'review_overall', 'review_profilename', 'beer_name']\n",
    "\n",
    "df.drop(drop_col, axis = 1, inplace=True)\n",
    "\n",
    "df.head()"
   ]
  },
  {
   "cell_type": "code",
   "execution_count": 130,
   "id": "f5b53ac9",
   "metadata": {},
   "outputs": [],
   "source": [
    "df.to_csv('/Users/jasle1/Desktop/MDSI/ADSI/AT_2/adsi_at2/data/interim/2_beer_reviews_APIpredictorsONLY.csv', index=False)"
   ]
  },
  {
   "cell_type": "markdown",
   "id": "ca94e7ae",
   "metadata": {},
   "source": [
    "# 4.4 Remove Nan/empty/null values from the Predictor columns"
   ]
  },
  {
   "cell_type": "code",
   "execution_count": 391,
   "id": "3e72cc8a",
   "metadata": {},
   "outputs": [],
   "source": [
    "# https://stackoverflow.com/questions/29314033/drop-rows-containing-empty-cells-from-a-pandas-dataframe\n",
    "#df['brewery_name'].replace('', np.nan, inplace=True)\n",
    "df.dropna(subset=['brewery_name'], inplace=True)"
   ]
  },
  {
   "cell_type": "code",
   "execution_count": 392,
   "id": "0b34cf55",
   "metadata": {},
   "outputs": [],
   "source": [
    "# https://stackoverflow.com/questions/21291259/convert-floats-to-ints-in-pandas\n",
    "df[(\"beer_abv\")] = df[(\"beer_abv\")].fillna(0.0)"
   ]
  },
  {
   "cell_type": "code",
   "execution_count": 318,
   "id": "e662d50c",
   "metadata": {},
   "outputs": [
    {
     "data": {
      "text/plain": [
       "brewery_name         0\n",
       "review_aroma         0\n",
       "review_appearance    0\n",
       "beer_style           0\n",
       "review_palate        0\n",
       "review_taste         0\n",
       "beer_abv             0\n",
       "dtype: int64"
      ]
     },
     "execution_count": 318,
     "metadata": {},
     "output_type": "execute_result"
    }
   ],
   "source": [
    "# check for missing values in the dataset\n",
    "df.isnull().sum()"
   ]
  },
  {
   "cell_type": "code",
   "execution_count": 211,
   "id": "5629f49b",
   "metadata": {},
   "outputs": [],
   "source": [
    "df.to_csv('/Users/jasle1/Desktop/MDSI/ADSI/AT_2/adsi_at2/data/interim/3_beer_reviews_APIpredictorsONLY_NO-NULL.csv', index=False)"
   ]
  },
  {
   "cell_type": "markdown",
   "id": "3e650eac",
   "metadata": {},
   "source": [
    "# 4.5 REMOVE SPECIAL CHARACTERS FROM NAME COLUMN"
   ]
  },
  {
   "cell_type": "code",
   "execution_count": 393,
   "id": "706d1b9e",
   "metadata": {},
   "outputs": [],
   "source": [
    "# this should remove everything but keep whitespace\n",
    "# https://stackoverflow.com/questions/42676162/remove-symbols-from-string-but-keep-whitespaces\n",
    "# \"[^a-zA-Z\\s]+\" allows to recognise and keep alphabets and whitespace, hence removing everything else. \n",
    "# Similarly \"[^a-zA-Z0-9\\s]+\" would also keep digits and remove all other characters/symbols\n",
    "\n",
    "df['brewery_name'] = df['brewery_name'].str.replace(\"[^a-zA-Z\\s]+\", '', regex=True)"
   ]
  },
  {
   "cell_type": "code",
   "execution_count": 320,
   "id": "5629f49b",
   "metadata": {},
   "outputs": [],
   "source": [
    "df.to_csv('/Users/jasle1/Desktop/MDSI/ADSI/AT_2/adsi_at2/data/interim/4_beer_reviews_APIpredictors_NoChar.csv', index=False)"
   ]
  },
  {
   "cell_type": "code",
   "execution_count": 280,
   "id": "aeb82405",
   "metadata": {},
   "outputs": [],
   "source": [
    "# Remove digits from Brewery_Name Column\n",
    "# https://stackoverflow.com/questions/41719259/how-to-remove-numbers-from-string-terms-in-a-pandas-dataframe\n",
    "#df['brewery_name'] = df['brewery_name'].str.replace('\\d+', '', regex=True)"
   ]
  },
  {
   "cell_type": "code",
   "execution_count": 281,
   "id": "e86ff64d",
   "metadata": {},
   "outputs": [],
   "source": [
    "#df.to_csv('/Users/jasle1/Desktop/MDSI/ADSI/AT_2/adsi_at2/data/interim/beer_reviews_APIpredictors_NoDigits.csv', index=False)"
   ]
  },
  {
   "cell_type": "code",
   "execution_count": 282,
   "id": "b3e267e1",
   "metadata": {},
   "outputs": [],
   "source": [
    "# Remove characters but keep whitespace --> this doesn't remove anything\n",
    "# https://stackoverflow.com/questions/33257344/how-to-remove-special-characers-from-a-column-of-dataframe-using-module-re\n",
    "#df['brewery_name'] = df['brewery_name'].str.replace('[^\\w\\s]', '', regex=True)"
   ]
  },
  {
   "cell_type": "code",
   "execution_count": 284,
   "id": "0e8d83d1",
   "metadata": {},
   "outputs": [],
   "source": [
    "#df.to_csv('/Users/jasle1/Desktop/MDSI/ADSI/AT_2/adsi_at2/data/interim/beer_reviews_APIpredictors_keepWS.csv', index=False)"
   ]
  },
  {
   "cell_type": "code",
   "execution_count": 285,
   "id": "debae3b9",
   "metadata": {},
   "outputs": [],
   "source": [
    "# Remove all special characters from Brewery_Name Column\n",
    "# https://www.delftstack.com/howto/python/remove-special-characters-from-string-python/#:~:text=or%20regular%20expressions.-,Remove%20Special%20Characters%20From%20the%20String%20in%20Python%20Using%20the,special%20characters%20in%20the%20string.\n",
    "#df['brewery_name'] = df['brewery_name'].str.replace(\"[^a-zA-Z0-9]\", '', regex=True)"
   ]
  },
  {
   "cell_type": "markdown",
   "id": "7ef8074c",
   "metadata": {},
   "source": [
    "## 4.6 Convert float columns to Int that are actually numeric - DO I need to?"
   ]
  },
  {
   "cell_type": "code",
   "execution_count": 394,
   "id": "0134eb1c",
   "metadata": {},
   "outputs": [
    {
     "name": "stdout",
     "output_type": "stream",
     "text": [
      "<class 'pandas.core.frame.DataFrame'>\n",
      "Int64Index: 1586599 entries, 0 to 1586613\n",
      "Data columns (total 7 columns):\n",
      " #   Column             Non-Null Count    Dtype  \n",
      "---  ------             --------------    -----  \n",
      " 0   brewery_name       1586599 non-null  object \n",
      " 1   review_aroma       1586599 non-null  float64\n",
      " 2   review_appearance  1586599 non-null  float64\n",
      " 3   beer_style         1586599 non-null  object \n",
      " 4   review_palate      1586599 non-null  float64\n",
      " 5   review_taste       1586599 non-null  float64\n",
      " 6   beer_abv           1586599 non-null  float64\n",
      "dtypes: float64(5), object(2)\n",
      "memory usage: 96.8+ MB\n"
     ]
    }
   ],
   "source": [
    "df.info()"
   ]
  },
  {
   "cell_type": "code",
   "execution_count": 321,
   "id": "cfa94108",
   "metadata": {},
   "outputs": [],
   "source": [
    "# Change float columns to int\n",
    "# https://stackoverflow.com/questions/21291259/convert-floats-to-ints-in-pandas\n",
    "df_cleaned = df.astype({\n",
    "    'review_aroma': 'int', \n",
    "    'review_appearance': 'int',\n",
    "    'review_palate': 'int',\n",
    "    'review_taste': 'int',\n",
    "    'beer_abv': 'int'\n",
    "    })"
   ]
  },
  {
   "cell_type": "code",
   "execution_count": 322,
   "id": "0d984f0e",
   "metadata": {},
   "outputs": [],
   "source": [
    "df_cleaned = df_cleaned.astype({\n",
    "    'brewery_name': 'str', \n",
    "    'beer_style': 'str'\n",
    "    })"
   ]
  },
  {
   "cell_type": "code",
   "execution_count": 323,
   "id": "8c087edb",
   "metadata": {},
   "outputs": [
    {
     "name": "stdout",
     "output_type": "stream",
     "text": [
      "<class 'pandas.core.frame.DataFrame'>\n",
      "Int64Index: 1586599 entries, 0 to 1586613\n",
      "Data columns (total 7 columns):\n",
      " #   Column             Non-Null Count    Dtype \n",
      "---  ------             --------------    ----- \n",
      " 0   brewery_name       1586599 non-null  object\n",
      " 1   review_aroma       1586599 non-null  int64 \n",
      " 2   review_appearance  1586599 non-null  int64 \n",
      " 3   beer_style         1586599 non-null  object\n",
      " 4   review_palate      1586599 non-null  int64 \n",
      " 5   review_taste       1586599 non-null  int64 \n",
      " 6   beer_abv           1586599 non-null  int64 \n",
      "dtypes: int64(5), object(2)\n",
      "memory usage: 96.8+ MB\n"
     ]
    }
   ],
   "source": [
    "# Check if it worked\n",
    "df_cleaned.info()"
   ]
  },
  {
   "cell_type": "markdown",
   "id": "89abb518",
   "metadata": {},
   "source": [
    "## 4.7 Standardise the Numeric columns in the dataset"
   ]
  },
  {
   "cell_type": "code",
   "execution_count": 395,
   "id": "82f1a2f0",
   "metadata": {},
   "outputs": [],
   "source": [
    "df_cleaned = df.copy()"
   ]
  },
  {
   "cell_type": "code",
   "execution_count": 325,
   "id": "481871fb",
   "metadata": {},
   "outputs": [
    {
     "data": {
      "text/plain": [
       "Index(['brewery_name', 'review_aroma', 'review_appearance', 'beer_style',\n",
       "       'review_palate', 'review_taste', 'beer_abv'],\n",
       "      dtype='object')"
      ]
     },
     "execution_count": 325,
     "metadata": {},
     "output_type": "execute_result"
    }
   ],
   "source": [
    "df_cleaned.columns"
   ]
  },
  {
   "cell_type": "code",
   "execution_count": 396,
   "id": "a7283ad2",
   "metadata": {},
   "outputs": [],
   "source": [
    "# Create a list of numeric columns\n",
    "\n",
    "num_cols = ['review_aroma', 'review_appearance', 'review_palate', 'review_taste', 'beer_abv']"
   ]
  },
  {
   "cell_type": "code",
   "execution_count": 397,
   "id": "9035b82c",
   "metadata": {},
   "outputs": [],
   "source": [
    "# Scale the numeric columns in the training dataset\n",
    "scaler = StandardScaler()\n",
    "df_cleaned[num_cols] = scaler.fit_transform(df_cleaned[num_cols])"
   ]
  },
  {
   "cell_type": "code",
   "execution_count": 328,
   "id": "cdd3a15c",
   "metadata": {},
   "outputs": [
    {
     "data": {
      "text/html": [
       "<div>\n",
       "<style scoped>\n",
       "    .dataframe tbody tr th:only-of-type {\n",
       "        vertical-align: middle;\n",
       "    }\n",
       "\n",
       "    .dataframe tbody tr th {\n",
       "        vertical-align: top;\n",
       "    }\n",
       "\n",
       "    .dataframe thead th {\n",
       "        text-align: right;\n",
       "    }\n",
       "</style>\n",
       "<table border=\"1\" class=\"dataframe\">\n",
       "  <thead>\n",
       "    <tr style=\"text-align: right;\">\n",
       "      <th></th>\n",
       "      <th>brewery_name</th>\n",
       "      <th>review_aroma</th>\n",
       "      <th>review_appearance</th>\n",
       "      <th>beer_style</th>\n",
       "      <th>review_palate</th>\n",
       "      <th>review_taste</th>\n",
       "      <th>beer_abv</th>\n",
       "    </tr>\n",
       "  </thead>\n",
       "  <tbody>\n",
       "    <tr>\n",
       "      <th>0</th>\n",
       "      <td>Vecchio Birraio</td>\n",
       "      <td>-2.487964</td>\n",
       "      <td>-2.177682</td>\n",
       "      <td>Hefeweizen</td>\n",
       "      <td>-3.288863</td>\n",
       "      <td>-3.132476</td>\n",
       "      <td>-0.649385</td>\n",
       "    </tr>\n",
       "    <tr>\n",
       "      <th>1</th>\n",
       "      <td>Vecchio Birraio</td>\n",
       "      <td>-1.771235</td>\n",
       "      <td>-1.366111</td>\n",
       "      <td>English Strong Ale</td>\n",
       "      <td>-1.090136</td>\n",
       "      <td>-1.083199</td>\n",
       "      <td>-0.201924</td>\n",
       "    </tr>\n",
       "    <tr>\n",
       "      <th>2</th>\n",
       "      <td>Vecchio Birraio</td>\n",
       "      <td>-1.771235</td>\n",
       "      <td>-1.366111</td>\n",
       "      <td>Foreign / Export Stout</td>\n",
       "      <td>-1.090136</td>\n",
       "      <td>-1.083199</td>\n",
       "      <td>-0.090059</td>\n",
       "    </tr>\n",
       "    <tr>\n",
       "      <th>3</th>\n",
       "      <td>Vecchio Birraio</td>\n",
       "      <td>-1.054506</td>\n",
       "      <td>-0.554541</td>\n",
       "      <td>German Pilsener</td>\n",
       "      <td>-1.823045</td>\n",
       "      <td>-1.083199</td>\n",
       "      <td>-0.649385</td>\n",
       "    </tr>\n",
       "    <tr>\n",
       "      <th>4</th>\n",
       "      <td>Caldera Brewing Company</td>\n",
       "      <td>1.095680</td>\n",
       "      <td>0.257029</td>\n",
       "      <td>American Double / Imperial IPA</td>\n",
       "      <td>0.375682</td>\n",
       "      <td>0.966078</td>\n",
       "      <td>0.357402</td>\n",
       "    </tr>\n",
       "  </tbody>\n",
       "</table>\n",
       "</div>"
      ],
      "text/plain": [
       "              brewery_name  review_aroma  review_appearance  \\\n",
       "0          Vecchio Birraio     -2.487964          -2.177682   \n",
       "1          Vecchio Birraio     -1.771235          -1.366111   \n",
       "2          Vecchio Birraio     -1.771235          -1.366111   \n",
       "3          Vecchio Birraio     -1.054506          -0.554541   \n",
       "4  Caldera Brewing Company      1.095680           0.257029   \n",
       "\n",
       "                       beer_style  review_palate  review_taste  beer_abv  \n",
       "0                      Hefeweizen      -3.288863     -3.132476 -0.649385  \n",
       "1              English Strong Ale      -1.090136     -1.083199 -0.201924  \n",
       "2          Foreign / Export Stout      -1.090136     -1.083199 -0.090059  \n",
       "3                 German Pilsener      -1.823045     -1.083199 -0.649385  \n",
       "4  American Double / Imperial IPA       0.375682      0.966078  0.357402  "
      ]
     },
     "execution_count": 328,
     "metadata": {},
     "output_type": "execute_result"
    }
   ],
   "source": [
    "df_cleaned.head()"
   ]
  },
  {
   "cell_type": "markdown",
   "id": "b44b1bc4",
   "metadata": {},
   "source": [
    "## 4.8 One Hot Encode the Categorical Variable (except target variable)"
   ]
  },
  {
   "cell_type": "code",
   "execution_count": 398,
   "id": "173e0965",
   "metadata": {},
   "outputs": [],
   "source": [
    "cat_cols = ['brewery_name'] #, 'beer_style']\n",
    "\n",
    "#Create object for binary encoding\n",
    "encoder= ce.BinaryEncoder(cols=cat_cols,return_df=True)\n",
    "\n",
    "#Create object for ordinal encoding\n",
    "#encoder= ce.OrdinalEncoder(cols=cat_cols,return_df=True)"
   ]
  },
  {
   "cell_type": "code",
   "execution_count": 399,
   "id": "52f87506",
   "metadata": {},
   "outputs": [
    {
     "data": {
      "text/html": [
       "<div>\n",
       "<style scoped>\n",
       "    .dataframe tbody tr th:only-of-type {\n",
       "        vertical-align: middle;\n",
       "    }\n",
       "\n",
       "    .dataframe tbody tr th {\n",
       "        vertical-align: top;\n",
       "    }\n",
       "\n",
       "    .dataframe thead th {\n",
       "        text-align: right;\n",
       "    }\n",
       "</style>\n",
       "<table border=\"1\" class=\"dataframe\">\n",
       "  <thead>\n",
       "    <tr style=\"text-align: right;\">\n",
       "      <th></th>\n",
       "      <th>brewery_name</th>\n",
       "      <th>review_aroma</th>\n",
       "      <th>review_appearance</th>\n",
       "      <th>beer_style</th>\n",
       "      <th>review_palate</th>\n",
       "      <th>review_taste</th>\n",
       "      <th>beer_abv</th>\n",
       "    </tr>\n",
       "  </thead>\n",
       "  <tbody>\n",
       "    <tr>\n",
       "      <th>0</th>\n",
       "      <td>1</td>\n",
       "      <td>-2.487964</td>\n",
       "      <td>-2.177682</td>\n",
       "      <td>Hefeweizen</td>\n",
       "      <td>-3.288863</td>\n",
       "      <td>-3.132476</td>\n",
       "      <td>-0.649385</td>\n",
       "    </tr>\n",
       "    <tr>\n",
       "      <th>1</th>\n",
       "      <td>1</td>\n",
       "      <td>-1.771235</td>\n",
       "      <td>-1.366111</td>\n",
       "      <td>English Strong Ale</td>\n",
       "      <td>-1.090136</td>\n",
       "      <td>-1.083199</td>\n",
       "      <td>-0.201924</td>\n",
       "    </tr>\n",
       "    <tr>\n",
       "      <th>2</th>\n",
       "      <td>1</td>\n",
       "      <td>-1.771235</td>\n",
       "      <td>-1.366111</td>\n",
       "      <td>Foreign / Export Stout</td>\n",
       "      <td>-1.090136</td>\n",
       "      <td>-1.083199</td>\n",
       "      <td>-0.090059</td>\n",
       "    </tr>\n",
       "    <tr>\n",
       "      <th>3</th>\n",
       "      <td>1</td>\n",
       "      <td>-1.054506</td>\n",
       "      <td>-0.554541</td>\n",
       "      <td>German Pilsener</td>\n",
       "      <td>-1.823045</td>\n",
       "      <td>-1.083199</td>\n",
       "      <td>-0.649385</td>\n",
       "    </tr>\n",
       "    <tr>\n",
       "      <th>4</th>\n",
       "      <td>2</td>\n",
       "      <td>1.095680</td>\n",
       "      <td>0.257029</td>\n",
       "      <td>American Double / Imperial IPA</td>\n",
       "      <td>0.375682</td>\n",
       "      <td>0.966078</td>\n",
       "      <td>0.357402</td>\n",
       "    </tr>\n",
       "    <tr>\n",
       "      <th>...</th>\n",
       "      <td>...</td>\n",
       "      <td>...</td>\n",
       "      <td>...</td>\n",
       "      <td>...</td>\n",
       "      <td>...</td>\n",
       "      <td>...</td>\n",
       "      <td>...</td>\n",
       "    </tr>\n",
       "    <tr>\n",
       "      <th>1586609</th>\n",
       "      <td>5723</td>\n",
       "      <td>0.378951</td>\n",
       "      <td>-0.554541</td>\n",
       "      <td>Pumpkin Ale</td>\n",
       "      <td>0.375682</td>\n",
       "      <td>0.282985</td>\n",
       "      <td>-0.574808</td>\n",
       "    </tr>\n",
       "    <tr>\n",
       "      <th>1586610</th>\n",
       "      <td>5723</td>\n",
       "      <td>1.812409</td>\n",
       "      <td>-2.177682</td>\n",
       "      <td>Pumpkin Ale</td>\n",
       "      <td>-2.555954</td>\n",
       "      <td>0.282985</td>\n",
       "      <td>-0.574808</td>\n",
       "    </tr>\n",
       "    <tr>\n",
       "      <th>1586611</th>\n",
       "      <td>5723</td>\n",
       "      <td>-0.337777</td>\n",
       "      <td>-1.366111</td>\n",
       "      <td>Pumpkin Ale</td>\n",
       "      <td>-0.357227</td>\n",
       "      <td>0.282985</td>\n",
       "      <td>-0.574808</td>\n",
       "    </tr>\n",
       "    <tr>\n",
       "      <th>1586612</th>\n",
       "      <td>5723</td>\n",
       "      <td>1.095680</td>\n",
       "      <td>1.068599</td>\n",
       "      <td>Pumpkin Ale</td>\n",
       "      <td>1.108591</td>\n",
       "      <td>0.966078</td>\n",
       "      <td>-0.574808</td>\n",
       "    </tr>\n",
       "    <tr>\n",
       "      <th>1586613</th>\n",
       "      <td>5723</td>\n",
       "      <td>1.095680</td>\n",
       "      <td>1.068599</td>\n",
       "      <td>Pumpkin Ale</td>\n",
       "      <td>1.108591</td>\n",
       "      <td>0.966078</td>\n",
       "      <td>-0.574808</td>\n",
       "    </tr>\n",
       "  </tbody>\n",
       "</table>\n",
       "<p>1586599 rows × 7 columns</p>\n",
       "</div>"
      ],
      "text/plain": [
       "         brewery_name  review_aroma  review_appearance  \\\n",
       "0                   1     -2.487964          -2.177682   \n",
       "1                   1     -1.771235          -1.366111   \n",
       "2                   1     -1.771235          -1.366111   \n",
       "3                   1     -1.054506          -0.554541   \n",
       "4                   2      1.095680           0.257029   \n",
       "...               ...           ...                ...   \n",
       "1586609          5723      0.378951          -0.554541   \n",
       "1586610          5723      1.812409          -2.177682   \n",
       "1586611          5723     -0.337777          -1.366111   \n",
       "1586612          5723      1.095680           1.068599   \n",
       "1586613          5723      1.095680           1.068599   \n",
       "\n",
       "                             beer_style  review_palate  review_taste  beer_abv  \n",
       "0                            Hefeweizen      -3.288863     -3.132476 -0.649385  \n",
       "1                    English Strong Ale      -1.090136     -1.083199 -0.201924  \n",
       "2                Foreign / Export Stout      -1.090136     -1.083199 -0.090059  \n",
       "3                       German Pilsener      -1.823045     -1.083199 -0.649385  \n",
       "4        American Double / Imperial IPA       0.375682      0.966078  0.357402  \n",
       "...                                 ...            ...           ...       ...  \n",
       "1586609                     Pumpkin Ale       0.375682      0.282985 -0.574808  \n",
       "1586610                     Pumpkin Ale      -2.555954      0.282985 -0.574808  \n",
       "1586611                     Pumpkin Ale      -0.357227      0.282985 -0.574808  \n",
       "1586612                     Pumpkin Ale       1.108591      0.966078 -0.574808  \n",
       "1586613                     Pumpkin Ale       1.108591      0.966078 -0.574808  \n",
       "\n",
       "[1586599 rows x 7 columns]"
      ]
     },
     "execution_count": 399,
     "metadata": {},
     "output_type": "execute_result"
    }
   ],
   "source": [
    "#Fit and Transform Data \n",
    "df_cleaned = encoder.fit_transform(df_cleaned) \n",
    "df_cleaned"
   ]
  },
  {
   "cell_type": "markdown",
   "id": "60f6998e",
   "metadata": {},
   "source": [
    "## 4.9 Now, Label Encode the Target Variable"
   ]
  },
  {
   "cell_type": "code",
   "execution_count": 331,
   "id": "7182d41b",
   "metadata": {},
   "outputs": [
    {
     "data": {
      "text/plain": [
       "Index(['brewery_name_0', 'brewery_name_1', 'brewery_name_2', 'brewery_name_3',\n",
       "       'brewery_name_4', 'brewery_name_5', 'brewery_name_6', 'brewery_name_7',\n",
       "       'brewery_name_8', 'brewery_name_9', 'brewery_name_10',\n",
       "       'brewery_name_11', 'brewery_name_12', 'review_aroma',\n",
       "       'review_appearance', 'beer_style', 'review_palate', 'review_taste',\n",
       "       'beer_abv'],\n",
       "      dtype='object')"
      ]
     },
     "execution_count": 331,
     "metadata": {},
     "output_type": "execute_result"
    }
   ],
   "source": [
    "df_cleaned.columns"
   ]
  },
  {
   "cell_type": "code",
   "execution_count": 400,
   "id": "22e1015d",
   "metadata": {},
   "outputs": [
    {
     "name": "stdout",
     "output_type": "stream",
     "text": [
      "0          65\n",
      "1          51\n",
      "2          59\n",
      "3          61\n",
      "4           9\n",
      "           ..\n",
      "1586609    85\n",
      "1586610    85\n",
      "1586611    85\n",
      "1586612    85\n",
      "1586613    85\n",
      "Name: beer_style, Length: 1586599, dtype: int64\n"
     ]
    }
   ],
   "source": [
    "# https://stackoverflow.com/questions/50473381/scikit-learns-labelbinarizer-vs-onehotencoder\n",
    "\n",
    "# integer encode the target variable\n",
    "label_encoder = LabelEncoder()\n",
    "df_cleaned['beer_style'] = label_encoder.fit_transform(df_cleaned['beer_style'])\n",
    "print(df_cleaned['beer_style'])"
   ]
  },
  {
   "cell_type": "code",
   "execution_count": 333,
   "id": "3da0022d",
   "metadata": {},
   "outputs": [
    {
     "data": {
      "text/html": [
       "<div>\n",
       "<style scoped>\n",
       "    .dataframe tbody tr th:only-of-type {\n",
       "        vertical-align: middle;\n",
       "    }\n",
       "\n",
       "    .dataframe tbody tr th {\n",
       "        vertical-align: top;\n",
       "    }\n",
       "\n",
       "    .dataframe thead th {\n",
       "        text-align: right;\n",
       "    }\n",
       "</style>\n",
       "<table border=\"1\" class=\"dataframe\">\n",
       "  <thead>\n",
       "    <tr style=\"text-align: right;\">\n",
       "      <th></th>\n",
       "      <th>brewery_name_0</th>\n",
       "      <th>brewery_name_1</th>\n",
       "      <th>brewery_name_2</th>\n",
       "      <th>brewery_name_3</th>\n",
       "      <th>brewery_name_4</th>\n",
       "      <th>brewery_name_5</th>\n",
       "      <th>brewery_name_6</th>\n",
       "      <th>brewery_name_7</th>\n",
       "      <th>brewery_name_8</th>\n",
       "      <th>brewery_name_9</th>\n",
       "      <th>brewery_name_10</th>\n",
       "      <th>brewery_name_11</th>\n",
       "      <th>brewery_name_12</th>\n",
       "      <th>review_aroma</th>\n",
       "      <th>review_appearance</th>\n",
       "      <th>beer_style</th>\n",
       "      <th>review_palate</th>\n",
       "      <th>review_taste</th>\n",
       "      <th>beer_abv</th>\n",
       "    </tr>\n",
       "  </thead>\n",
       "  <tbody>\n",
       "    <tr>\n",
       "      <th>0</th>\n",
       "      <td>0</td>\n",
       "      <td>0</td>\n",
       "      <td>0</td>\n",
       "      <td>0</td>\n",
       "      <td>0</td>\n",
       "      <td>0</td>\n",
       "      <td>0</td>\n",
       "      <td>0</td>\n",
       "      <td>0</td>\n",
       "      <td>0</td>\n",
       "      <td>0</td>\n",
       "      <td>0</td>\n",
       "      <td>1</td>\n",
       "      <td>-2.487964</td>\n",
       "      <td>-2.177682</td>\n",
       "      <td>65</td>\n",
       "      <td>-3.288863</td>\n",
       "      <td>-3.132476</td>\n",
       "      <td>-0.649385</td>\n",
       "    </tr>\n",
       "    <tr>\n",
       "      <th>1</th>\n",
       "      <td>0</td>\n",
       "      <td>0</td>\n",
       "      <td>0</td>\n",
       "      <td>0</td>\n",
       "      <td>0</td>\n",
       "      <td>0</td>\n",
       "      <td>0</td>\n",
       "      <td>0</td>\n",
       "      <td>0</td>\n",
       "      <td>0</td>\n",
       "      <td>0</td>\n",
       "      <td>0</td>\n",
       "      <td>1</td>\n",
       "      <td>-1.771235</td>\n",
       "      <td>-1.366111</td>\n",
       "      <td>51</td>\n",
       "      <td>-1.090136</td>\n",
       "      <td>-1.083199</td>\n",
       "      <td>-0.201924</td>\n",
       "    </tr>\n",
       "    <tr>\n",
       "      <th>2</th>\n",
       "      <td>0</td>\n",
       "      <td>0</td>\n",
       "      <td>0</td>\n",
       "      <td>0</td>\n",
       "      <td>0</td>\n",
       "      <td>0</td>\n",
       "      <td>0</td>\n",
       "      <td>0</td>\n",
       "      <td>0</td>\n",
       "      <td>0</td>\n",
       "      <td>0</td>\n",
       "      <td>0</td>\n",
       "      <td>1</td>\n",
       "      <td>-1.771235</td>\n",
       "      <td>-1.366111</td>\n",
       "      <td>59</td>\n",
       "      <td>-1.090136</td>\n",
       "      <td>-1.083199</td>\n",
       "      <td>-0.090059</td>\n",
       "    </tr>\n",
       "    <tr>\n",
       "      <th>3</th>\n",
       "      <td>0</td>\n",
       "      <td>0</td>\n",
       "      <td>0</td>\n",
       "      <td>0</td>\n",
       "      <td>0</td>\n",
       "      <td>0</td>\n",
       "      <td>0</td>\n",
       "      <td>0</td>\n",
       "      <td>0</td>\n",
       "      <td>0</td>\n",
       "      <td>0</td>\n",
       "      <td>0</td>\n",
       "      <td>1</td>\n",
       "      <td>-1.054506</td>\n",
       "      <td>-0.554541</td>\n",
       "      <td>61</td>\n",
       "      <td>-1.823045</td>\n",
       "      <td>-1.083199</td>\n",
       "      <td>-0.649385</td>\n",
       "    </tr>\n",
       "    <tr>\n",
       "      <th>4</th>\n",
       "      <td>0</td>\n",
       "      <td>0</td>\n",
       "      <td>0</td>\n",
       "      <td>0</td>\n",
       "      <td>0</td>\n",
       "      <td>0</td>\n",
       "      <td>0</td>\n",
       "      <td>0</td>\n",
       "      <td>0</td>\n",
       "      <td>0</td>\n",
       "      <td>0</td>\n",
       "      <td>1</td>\n",
       "      <td>0</td>\n",
       "      <td>1.095680</td>\n",
       "      <td>0.257029</td>\n",
       "      <td>9</td>\n",
       "      <td>0.375682</td>\n",
       "      <td>0.966078</td>\n",
       "      <td>0.357402</td>\n",
       "    </tr>\n",
       "  </tbody>\n",
       "</table>\n",
       "</div>"
      ],
      "text/plain": [
       "   brewery_name_0  brewery_name_1  brewery_name_2  brewery_name_3  \\\n",
       "0               0               0               0               0   \n",
       "1               0               0               0               0   \n",
       "2               0               0               0               0   \n",
       "3               0               0               0               0   \n",
       "4               0               0               0               0   \n",
       "\n",
       "   brewery_name_4  brewery_name_5  brewery_name_6  brewery_name_7  \\\n",
       "0               0               0               0               0   \n",
       "1               0               0               0               0   \n",
       "2               0               0               0               0   \n",
       "3               0               0               0               0   \n",
       "4               0               0               0               0   \n",
       "\n",
       "   brewery_name_8  brewery_name_9  brewery_name_10  brewery_name_11  \\\n",
       "0               0               0                0                0   \n",
       "1               0               0                0                0   \n",
       "2               0               0                0                0   \n",
       "3               0               0                0                0   \n",
       "4               0               0                0                1   \n",
       "\n",
       "   brewery_name_12  review_aroma  review_appearance  beer_style  \\\n",
       "0                1     -2.487964          -2.177682          65   \n",
       "1                1     -1.771235          -1.366111          51   \n",
       "2                1     -1.771235          -1.366111          59   \n",
       "3                1     -1.054506          -0.554541          61   \n",
       "4                0      1.095680           0.257029           9   \n",
       "\n",
       "   review_palate  review_taste  beer_abv  \n",
       "0      -3.288863     -3.132476 -0.649385  \n",
       "1      -1.090136     -1.083199 -0.201924  \n",
       "2      -1.090136     -1.083199 -0.090059  \n",
       "3      -1.823045     -1.083199 -0.649385  \n",
       "4       0.375682      0.966078  0.357402  "
      ]
     },
     "execution_count": 333,
     "metadata": {},
     "output_type": "execute_result"
    }
   ],
   "source": [
    "df_cleaned.head()"
   ]
  },
  {
   "cell_type": "code",
   "execution_count": 167,
   "id": "de74a2bc",
   "metadata": {},
   "outputs": [],
   "source": [
    "# reset the index\n",
    "\n",
    "#df_cleaned.reset_index(drop=True, inplace=True)"
   ]
  },
  {
   "cell_type": "markdown",
   "id": "b83de967",
   "metadata": {},
   "source": [
    "## 4.10 Split up the Datasets"
   ]
  },
  {
   "cell_type": "code",
   "execution_count": 401,
   "id": "d59f0275",
   "metadata": {},
   "outputs": [
    {
     "data": {
      "text/plain": [
       "(1586599, 1)"
      ]
     },
     "execution_count": 401,
     "metadata": {},
     "output_type": "execute_result"
    }
   ],
   "source": [
    "# extract the target variable out as y = target\n",
    "target = pd.DataFrame(df_cleaned.pop('beer_style'))\n",
    "target.shape"
   ]
  },
  {
   "cell_type": "code",
   "execution_count": 335,
   "id": "b253e221",
   "metadata": {},
   "outputs": [
    {
     "data": {
      "text/html": [
       "<div>\n",
       "<style scoped>\n",
       "    .dataframe tbody tr th:only-of-type {\n",
       "        vertical-align: middle;\n",
       "    }\n",
       "\n",
       "    .dataframe tbody tr th {\n",
       "        vertical-align: top;\n",
       "    }\n",
       "\n",
       "    .dataframe thead th {\n",
       "        text-align: right;\n",
       "    }\n",
       "</style>\n",
       "<table border=\"1\" class=\"dataframe\">\n",
       "  <thead>\n",
       "    <tr style=\"text-align: right;\">\n",
       "      <th></th>\n",
       "      <th>beer_style</th>\n",
       "    </tr>\n",
       "  </thead>\n",
       "  <tbody>\n",
       "    <tr>\n",
       "      <th>0</th>\n",
       "      <td>65</td>\n",
       "    </tr>\n",
       "    <tr>\n",
       "      <th>1</th>\n",
       "      <td>51</td>\n",
       "    </tr>\n",
       "    <tr>\n",
       "      <th>2</th>\n",
       "      <td>59</td>\n",
       "    </tr>\n",
       "    <tr>\n",
       "      <th>3</th>\n",
       "      <td>61</td>\n",
       "    </tr>\n",
       "    <tr>\n",
       "      <th>4</th>\n",
       "      <td>9</td>\n",
       "    </tr>\n",
       "  </tbody>\n",
       "</table>\n",
       "</div>"
      ],
      "text/plain": [
       "   beer_style\n",
       "0          65\n",
       "1          51\n",
       "2          59\n",
       "3          61\n",
       "4           9"
      ]
     },
     "execution_count": 335,
     "metadata": {},
     "output_type": "execute_result"
    }
   ],
   "source": [
    "target.head()"
   ]
  },
  {
   "cell_type": "code",
   "execution_count": 402,
   "id": "ee409c57",
   "metadata": {},
   "outputs": [],
   "source": [
    "X_train, X_test, y_train, y_test = train_test_split(df_cleaned, target, test_size=0.3, random_state = 42)"
   ]
  },
  {
   "cell_type": "code",
   "execution_count": 403,
   "id": "3fdb3469",
   "metadata": {},
   "outputs": [
    {
     "data": {
      "text/plain": [
       "(1110619, 6)"
      ]
     },
     "execution_count": 403,
     "metadata": {},
     "output_type": "execute_result"
    }
   ],
   "source": [
    "X_train.shape"
   ]
  },
  {
   "cell_type": "code",
   "execution_count": 404,
   "id": "5229fc93",
   "metadata": {},
   "outputs": [
    {
     "data": {
      "text/plain": [
       "(475980, 6)"
      ]
     },
     "execution_count": 404,
     "metadata": {},
     "output_type": "execute_result"
    }
   ],
   "source": [
    "X_test.shape"
   ]
  },
  {
   "cell_type": "code",
   "execution_count": 405,
   "id": "62be314e",
   "metadata": {},
   "outputs": [
    {
     "data": {
      "text/plain": [
       "(1110619, 1)"
      ]
     },
     "execution_count": 405,
     "metadata": {},
     "output_type": "execute_result"
    }
   ],
   "source": [
    "y_train.shape"
   ]
  },
  {
   "cell_type": "code",
   "execution_count": 406,
   "id": "15303ed8",
   "metadata": {},
   "outputs": [
    {
     "data": {
      "text/plain": [
       "(475980, 1)"
      ]
     },
     "execution_count": 406,
     "metadata": {},
     "output_type": "execute_result"
    }
   ],
   "source": [
    "y_test.shape"
   ]
  },
  {
   "cell_type": "markdown",
   "id": "50ba8da3",
   "metadata": {},
   "source": [
    "## 4.11 Save the processed data files"
   ]
  },
  {
   "cell_type": "code",
   "execution_count": 337,
   "id": "f67e37cd",
   "metadata": {},
   "outputs": [],
   "source": [
    "# save the processed datasets\n",
    "np.save('/Users/jasle1/Desktop/MDSI/ADSI/AT_2/adsi_at2/data/processed/X_train', X_train)\n",
    "np.save('/Users/jasle1/Desktop/MDSI/ADSI/AT_2/adsi_at2/data/processed/X_test',  X_test)\n",
    "np.save('/Users/jasle1/Desktop/MDSI/ADSI/AT_2/adsi_at2/data/processed/y_train', y_train)\n",
    "np.save('/Users/jasle1/Desktop/MDSI/ADSI/AT_2/adsi_at2/data/processed/y_test',  y_test)"
   ]
  },
  {
   "cell_type": "code",
   "execution_count": 338,
   "id": "08e1a3ad",
   "metadata": {},
   "outputs": [],
   "source": [
    "# save csv files too\n",
    "X_train.to_csv('/Users/jasle1/Desktop/MDSI/ADSI/AT_2/adsi_at2/data/processed/X_train.csv', index=False)\n",
    "X_test.to_csv('/Users/jasle1/Desktop/MDSI/ADSI/AT_2/adsi_at2/data/processed/X_test.csv', index=False)"
   ]
  },
  {
   "cell_type": "code",
   "execution_count": 339,
   "id": "f3ad58ea",
   "metadata": {},
   "outputs": [],
   "source": [
    "y_train.to_csv('/Users/jasle1/Desktop/MDSI/ADSI/AT_2/adsi_at2/data/processed/y_train.csv', index=False)\n",
    "y_test.to_csv('/Users/jasle1/Desktop/MDSI/ADSI/AT_2/adsi_at2/data/processed/y_test.csv', index=False)"
   ]
  },
  {
   "cell_type": "markdown",
   "id": "00a6af16",
   "metadata": {},
   "source": [
    "# 5. Train a Multinomial Logistic Regression Model"
   ]
  },
  {
   "cell_type": "code",
   "execution_count": 413,
   "id": "29625931",
   "metadata": {},
   "outputs": [
    {
     "data": {
      "text/html": [
       "<div>\n",
       "<style scoped>\n",
       "    .dataframe tbody tr th:only-of-type {\n",
       "        vertical-align: middle;\n",
       "    }\n",
       "\n",
       "    .dataframe tbody tr th {\n",
       "        vertical-align: top;\n",
       "    }\n",
       "\n",
       "    .dataframe thead th {\n",
       "        text-align: right;\n",
       "    }\n",
       "</style>\n",
       "<table border=\"1\" class=\"dataframe\">\n",
       "  <thead>\n",
       "    <tr style=\"text-align: right;\">\n",
       "      <th></th>\n",
       "      <th>brewery_name</th>\n",
       "      <th>review_aroma</th>\n",
       "      <th>review_appearance</th>\n",
       "      <th>review_palate</th>\n",
       "      <th>review_taste</th>\n",
       "      <th>beer_abv</th>\n",
       "    </tr>\n",
       "  </thead>\n",
       "  <tbody>\n",
       "    <tr>\n",
       "      <th>1232732</th>\n",
       "      <td>4291</td>\n",
       "      <td>-1.771235</td>\n",
       "      <td>-2.177682</td>\n",
       "      <td>-1.090136</td>\n",
       "      <td>-1.083199</td>\n",
       "      <td>0.096383</td>\n",
       "    </tr>\n",
       "    <tr>\n",
       "      <th>1088647</th>\n",
       "      <td>3987</td>\n",
       "      <td>1.812409</td>\n",
       "      <td>1.068599</td>\n",
       "      <td>1.108591</td>\n",
       "      <td>0.966078</td>\n",
       "      <td>0.469267</td>\n",
       "    </tr>\n",
       "    <tr>\n",
       "      <th>882884</th>\n",
       "      <td>3055</td>\n",
       "      <td>0.378951</td>\n",
       "      <td>1.068599</td>\n",
       "      <td>0.375682</td>\n",
       "      <td>0.282985</td>\n",
       "      <td>0.357402</td>\n",
       "    </tr>\n",
       "    <tr>\n",
       "      <th>396170</th>\n",
       "      <td>1298</td>\n",
       "      <td>1.812409</td>\n",
       "      <td>1.068599</td>\n",
       "      <td>1.108591</td>\n",
       "      <td>1.649170</td>\n",
       "      <td>-0.090059</td>\n",
       "    </tr>\n",
       "    <tr>\n",
       "      <th>225287</th>\n",
       "      <td>718</td>\n",
       "      <td>-1.054506</td>\n",
       "      <td>0.257029</td>\n",
       "      <td>-1.090136</td>\n",
       "      <td>-1.083199</td>\n",
       "      <td>-0.313789</td>\n",
       "    </tr>\n",
       "  </tbody>\n",
       "</table>\n",
       "</div>"
      ],
      "text/plain": [
       "         brewery_name  review_aroma  review_appearance  review_palate  \\\n",
       "1232732          4291     -1.771235          -2.177682      -1.090136   \n",
       "1088647          3987      1.812409           1.068599       1.108591   \n",
       "882884           3055      0.378951           1.068599       0.375682   \n",
       "396170           1298      1.812409           1.068599       1.108591   \n",
       "225287            718     -1.054506           0.257029      -1.090136   \n",
       "\n",
       "         review_taste  beer_abv  \n",
       "1232732     -1.083199  0.096383  \n",
       "1088647      0.966078  0.469267  \n",
       "882884       0.282985  0.357402  \n",
       "396170       1.649170 -0.090059  \n",
       "225287      -1.083199 -0.313789  "
      ]
     },
     "execution_count": 413,
     "metadata": {},
     "output_type": "execute_result"
    }
   ],
   "source": [
    "X_test.head()"
   ]
  },
  {
   "cell_type": "code",
   "execution_count": 414,
   "id": "f3bd5578",
   "metadata": {},
   "outputs": [
    {
     "data": {
      "text/html": [
       "<div>\n",
       "<style scoped>\n",
       "    .dataframe tbody tr th:only-of-type {\n",
       "        vertical-align: middle;\n",
       "    }\n",
       "\n",
       "    .dataframe tbody tr th {\n",
       "        vertical-align: top;\n",
       "    }\n",
       "\n",
       "    .dataframe thead th {\n",
       "        text-align: right;\n",
       "    }\n",
       "</style>\n",
       "<table border=\"1\" class=\"dataframe\">\n",
       "  <thead>\n",
       "    <tr style=\"text-align: right;\">\n",
       "      <th></th>\n",
       "      <th>beer_style</th>\n",
       "    </tr>\n",
       "  </thead>\n",
       "  <tbody>\n",
       "    <tr>\n",
       "      <th>1232732</th>\n",
       "      <td>12</td>\n",
       "    </tr>\n",
       "    <tr>\n",
       "      <th>1088647</th>\n",
       "      <td>9</td>\n",
       "    </tr>\n",
       "    <tr>\n",
       "      <th>882884</th>\n",
       "      <td>14</td>\n",
       "    </tr>\n",
       "    <tr>\n",
       "      <th>396170</th>\n",
       "      <td>55</td>\n",
       "    </tr>\n",
       "    <tr>\n",
       "      <th>225287</th>\n",
       "      <td>17</td>\n",
       "    </tr>\n",
       "  </tbody>\n",
       "</table>\n",
       "</div>"
      ],
      "text/plain": [
       "         beer_style\n",
       "1232732          12\n",
       "1088647           9\n",
       "882884           14\n",
       "396170           55\n",
       "225287           17"
      ]
     },
     "execution_count": 414,
     "metadata": {},
     "output_type": "execute_result"
    }
   ],
   "source": [
    "y_test.head()"
   ]
  },
  {
   "cell_type": "code",
   "execution_count": 407,
   "id": "48f58053",
   "metadata": {},
   "outputs": [],
   "source": [
    "# https://machinelearningmastery.com/multinomial-logistic-regression-with-python/\n",
    "# define the multinomial logistic regression model with a penalty\n",
    "model = LogisticRegression(multi_class=\"multinomial\", solver='lbfgs') #, max_iter=1000, penalty='l2', C=1.0) #, class_weight='balanced')\n",
    "\n",
    "# https://stackoverflow.com/questions/62658215/convergencewarning-lbfgs-failed-to-converge-status-1-stop-total-no-of-iter\n",
    "# Convergence warning below in 'model.fit' can be resolved by adding 'max_iter=1000' here, as above\n",
    "\n",
    "# https://stackoverflow.com/questions/61814494/what-is-this-warning-convergencewarning-lbfgs-failed-to-converge-status-1\n",
    "# default max_iter = 100"
   ]
  },
  {
   "cell_type": "code",
   "execution_count": 408,
   "id": "d65fa186",
   "metadata": {},
   "outputs": [
    {
     "name": "stderr",
     "output_type": "stream",
     "text": [
      "/opt/homebrew/Caskroom/miniforge/base/envs/pytorch_m1/lib/python3.8/site-packages/sklearn/linear_model/_logistic.py:814: ConvergenceWarning: lbfgs failed to converge (status=1):\n",
      "STOP: TOTAL NO. of ITERATIONS REACHED LIMIT.\n",
      "\n",
      "Increase the number of iterations (max_iter) or scale the data as shown in:\n",
      "    https://scikit-learn.org/stable/modules/preprocessing.html\n",
      "Please also refer to the documentation for alternative solver options:\n",
      "    https://scikit-learn.org/stable/modules/linear_model.html#logistic-regression\n",
      "  n_iter_i = _check_optimize_result(\n"
     ]
    },
    {
     "data": {
      "text/plain": [
       "LogisticRegression(multi_class='multinomial')"
      ]
     },
     "execution_count": 408,
     "metadata": {},
     "output_type": "execute_result"
    }
   ],
   "source": [
    "# https://stackoverflow.com/questions/58313842/a-column-vector-y-was-passed-when-a-1d-array-was-expected-error-message\n",
    "# Model was throwing an array warning so added 'np.ravel()' to the target dataset --> \n",
    "model.fit(X_train, np.ravel(y_train))\n",
    "#model.fit(X_train, y_train)\n",
    "\n",
    "# ran for over 9min with default max_iter=100 and no class_weight\n",
    "# ran for 60min with 1000 iterations and balanced class_weight, but the model performance decreased.\n",
    "# should have just tried 300 iters --> ran for 33min, but wasn't enough, accuracy same as 100 iterations"
   ]
  },
  {
   "cell_type": "code",
   "execution_count": 342,
   "id": "cc210de8",
   "metadata": {},
   "outputs": [
    {
     "data": {
      "text/plain": [
       "['/Users/jasle1/Desktop/MDSI/ADSI/AT_2/api/models/mlr_scaled_6Pred_NoChar.joblib']"
      ]
     },
     "execution_count": 342,
     "metadata": {},
     "output_type": "execute_result"
    }
   ],
   "source": [
    "# *** save the models for API use\n",
    "dump(model, '/Users/jasle1/Desktop/MDSI/ADSI/AT_2/adsi_at2/models/mlr_scaled_6Pred_NoChar_NameOrdinalEncoded.joblib')\n",
    "\n",
    "dump(model, '/Users/jasle1/Desktop/MDSI/ADSI/AT_2/api/models/mlr_scaled_6Pred_NoChar_NameOrdinalEncoded.joblib')"
   ]
  },
  {
   "cell_type": "markdown",
   "id": "3e8e04f1",
   "metadata": {},
   "source": [
    "# 6. Evaluate Model Performance"
   ]
  },
  {
   "cell_type": "markdown",
   "id": "7b3f6a2b",
   "metadata": {},
   "source": [
    "# 6.1 Accuracy Score"
   ]
  },
  {
   "cell_type": "code",
   "execution_count": 409,
   "id": "e2b5cc8b",
   "metadata": {},
   "outputs": [
    {
     "name": "stdout",
     "output_type": "stream",
     "text": [
      "Multinomial Logistic regression Train Accuracy ::  0.07518870107570642\n",
      "Multinomial Logistic regression Test Accuracy ::  0.07599058783982521\n"
     ]
    }
   ],
   "source": [
    "# https://dataaspirant.com/implement-multinomial-logistic-regression-python/\n",
    "print (\"Multinomial Logistic regression Train Accuracy :: \", accuracy_score(y_train, model.predict(X_train)))\n",
    "print (\"Multinomial Logistic regression Test Accuracy :: \", accuracy_score(y_test, model.predict(X_test)))\n",
    "\n",
    "# accuracy decreased from 25% to 18% when 4 additional parameters were added to the regressor\n",
    "# when brewery name and target variables were both label encoded, and only 6 API predictors were kept, train and test accuracy dropped from 25% to 7%"
   ]
  },
  {
   "cell_type": "code",
   "execution_count": 410,
   "id": "044f53b9",
   "metadata": {},
   "outputs": [
    {
     "data": {
      "text/plain": [
       "array([12])"
      ]
     },
     "execution_count": 410,
     "metadata": {},
     "output_type": "execute_result"
    }
   ],
   "source": [
    "obs = pd.DataFrame(X_train.iloc[315]).transpose()\n",
    "model.predict(obs)"
   ]
  },
  {
   "cell_type": "markdown",
   "id": "403169fa",
   "metadata": {},
   "source": [
    "## 6.2 AUROC Score"
   ]
  },
  {
   "cell_type": "code",
   "execution_count": 345,
   "id": "b12b71e4",
   "metadata": {},
   "outputs": [
    {
     "data": {
      "text/plain": [
       "array([[7.42472645e-03, 4.43467315e-02, 3.40337400e-02, ...,\n",
       "        8.99146522e-05, 6.91327183e-03, 1.88941501e-02],\n",
       "       [7.82944357e-04, 3.85892568e-05, 6.89901846e-03, ...,\n",
       "        1.59600972e-03, 9.75646331e-03, 2.63325735e-03],\n",
       "       [4.07853547e-03, 2.17308239e-04, 1.72168082e-02, ...,\n",
       "        1.08194172e-03, 1.51232607e-02, 2.53039288e-03],\n",
       "       ...,\n",
       "       [6.75667447e-03, 5.87051220e-03, 4.85066350e-02, ...,\n",
       "        6.01103400e-05, 5.09730620e-03, 5.21296935e-02],\n",
       "       [1.26374214e-03, 8.42372889e-03, 7.78741277e-02, ...,\n",
       "        1.94462911e-05, 8.05403481e-03, 2.21443524e-02],\n",
       "       [1.09994441e-02, 1.42779345e-03, 4.89550758e-02, ...,\n",
       "        1.60815694e-04, 2.07220724e-02, 2.95796701e-02]])"
      ]
     },
     "execution_count": 345,
     "metadata": {},
     "output_type": "execute_result"
    }
   ],
   "source": [
    "# Make predictions on the test dataset\n",
    "test_prob = model.predict_proba(X_test)\n",
    "test_prob"
   ]
  },
  {
   "cell_type": "code",
   "execution_count": 346,
   "id": "231279dc",
   "metadata": {},
   "outputs": [
    {
     "name": "stdout",
     "output_type": "stream",
     "text": [
      "The Multinomial Logistic regression ROC AUC score is 0.8328437642963085\n"
     ]
    }
   ],
   "source": [
    "# Calculate auc scores for performance evaluation\n",
    "# AUROC score is one of the preferred metrics for multi-class classification models evaluation\n",
    "# https://scikit-learn.org/stable/modules/generated/sklearn.metrics.roc_auc_score.html#sklearn.metrics.roc_auc_score\n",
    "auc_score = roc_auc_score(y_test, test_prob, multi_class='ovr')\n",
    "\n",
    "print(f'The Multinomial Logistic regression ROC AUC score is {auc_score}')"
   ]
  },
  {
   "cell_type": "markdown",
   "id": "8cdba41f",
   "metadata": {},
   "source": [
    "# 7. Transform the Target Variable and its Predictions back to String/Name"
   ]
  },
  {
   "cell_type": "code",
   "execution_count": 416,
   "id": "73f1736d",
   "metadata": {},
   "outputs": [
    {
     "data": {
      "text/html": [
       "<div>\n",
       "<style scoped>\n",
       "    .dataframe tbody tr th:only-of-type {\n",
       "        vertical-align: middle;\n",
       "    }\n",
       "\n",
       "    .dataframe tbody tr th {\n",
       "        vertical-align: top;\n",
       "    }\n",
       "\n",
       "    .dataframe thead th {\n",
       "        text-align: right;\n",
       "    }\n",
       "</style>\n",
       "<table border=\"1\" class=\"dataframe\">\n",
       "  <thead>\n",
       "    <tr style=\"text-align: right;\">\n",
       "      <th></th>\n",
       "      <th>Predicted_beer_style</th>\n",
       "    </tr>\n",
       "  </thead>\n",
       "  <tbody>\n",
       "    <tr>\n",
       "      <th>0</th>\n",
       "      <td>American IPA</td>\n",
       "    </tr>\n",
       "    <tr>\n",
       "      <th>1</th>\n",
       "      <td>American IPA</td>\n",
       "    </tr>\n",
       "    <tr>\n",
       "      <th>2</th>\n",
       "      <td>American IPA</td>\n",
       "    </tr>\n",
       "    <tr>\n",
       "      <th>3</th>\n",
       "      <td>American IPA</td>\n",
       "    </tr>\n",
       "    <tr>\n",
       "      <th>4</th>\n",
       "      <td>American IPA</td>\n",
       "    </tr>\n",
       "  </tbody>\n",
       "</table>\n",
       "</div>"
      ],
      "text/plain": [
       "  Predicted_beer_style\n",
       "0         American IPA\n",
       "1         American IPA\n",
       "2         American IPA\n",
       "3         American IPA\n",
       "4         American IPA"
      ]
     },
     "execution_count": 416,
     "metadata": {},
     "output_type": "execute_result"
    }
   ],
   "source": [
    "# Transform Predictions back to names\n",
    "# https://scikit-learn.org/stable/modules/preprocessing_targets.html\n",
    "list = label_encoder.inverse_transform(test_pred)\n",
    "list = pd.DataFrame(list)\n",
    "list = list.rename(columns={0: 'Predicted_beer_style'})\n",
    "list.head()"
   ]
  },
  {
   "cell_type": "code",
   "execution_count": 420,
   "id": "55985ef3",
   "metadata": {},
   "outputs": [
    {
     "name": "stderr",
     "output_type": "stream",
     "text": [
      "/opt/homebrew/Caskroom/miniforge/base/envs/pytorch_m1/lib/python3.8/site-packages/sklearn/preprocessing/_label.py:154: DataConversionWarning: A column-vector y was passed when a 1d array was expected. Please change the shape of y to (n_samples, ), for example using ravel().\n",
      "  y = column_or_1d(y, warn=True)\n"
     ]
    },
    {
     "data": {
      "text/html": [
       "<div>\n",
       "<style scoped>\n",
       "    .dataframe tbody tr th:only-of-type {\n",
       "        vertical-align: middle;\n",
       "    }\n",
       "\n",
       "    .dataframe tbody tr th {\n",
       "        vertical-align: top;\n",
       "    }\n",
       "\n",
       "    .dataframe thead th {\n",
       "        text-align: right;\n",
       "    }\n",
       "</style>\n",
       "<table border=\"1\" class=\"dataframe\">\n",
       "  <thead>\n",
       "    <tr style=\"text-align: right;\">\n",
       "      <th></th>\n",
       "      <th>Beer_style</th>\n",
       "    </tr>\n",
       "  </thead>\n",
       "  <tbody>\n",
       "    <tr>\n",
       "      <th>0</th>\n",
       "      <td>American IPA</td>\n",
       "    </tr>\n",
       "    <tr>\n",
       "      <th>1</th>\n",
       "      <td>American Double / Imperial IPA</td>\n",
       "    </tr>\n",
       "    <tr>\n",
       "      <th>2</th>\n",
       "      <td>American Pale Ale (APA)</td>\n",
       "    </tr>\n",
       "    <tr>\n",
       "      <th>3</th>\n",
       "      <td>Extra Special / Strong Bitter (ESB)</td>\n",
       "    </tr>\n",
       "    <tr>\n",
       "      <th>4</th>\n",
       "      <td>American Porter</td>\n",
       "    </tr>\n",
       "  </tbody>\n",
       "</table>\n",
       "</div>"
      ],
      "text/plain": [
       "                            Beer_style\n",
       "0                         American IPA\n",
       "1       American Double / Imperial IPA\n",
       "2              American Pale Ale (APA)\n",
       "3  Extra Special / Strong Bitter (ESB)\n",
       "4                      American Porter"
      ]
     },
     "execution_count": 420,
     "metadata": {},
     "output_type": "execute_result"
    }
   ],
   "source": [
    "# Transform y_test back to names\n",
    "ylist = label_encoder.inverse_transform(y_test)\n",
    "ylist = pd.DataFrame(ylist)\n",
    "ylist = ylist.rename(columns={0: 'Beer_style'})\n",
    "ylist.head()"
   ]
  },
  {
   "cell_type": "markdown",
   "id": "b832933d",
   "metadata": {},
   "source": [
    "# 8. Extract Final Predictions DataFrame"
   ]
  },
  {
   "cell_type": "code",
   "execution_count": 428,
   "id": "b8ac32fc",
   "metadata": {},
   "outputs": [
    {
     "data": {
      "text/html": [
       "<div>\n",
       "<style scoped>\n",
       "    .dataframe tbody tr th:only-of-type {\n",
       "        vertical-align: middle;\n",
       "    }\n",
       "\n",
       "    .dataframe tbody tr th {\n",
       "        vertical-align: top;\n",
       "    }\n",
       "\n",
       "    .dataframe thead th {\n",
       "        text-align: right;\n",
       "    }\n",
       "</style>\n",
       "<table border=\"1\" class=\"dataframe\">\n",
       "  <thead>\n",
       "    <tr style=\"text-align: right;\">\n",
       "      <th></th>\n",
       "      <th>Predictions</th>\n",
       "    </tr>\n",
       "  </thead>\n",
       "  <tbody>\n",
       "    <tr>\n",
       "      <th>0</th>\n",
       "      <td>12</td>\n",
       "    </tr>\n",
       "    <tr>\n",
       "      <th>1</th>\n",
       "      <td>12</td>\n",
       "    </tr>\n",
       "    <tr>\n",
       "      <th>2</th>\n",
       "      <td>12</td>\n",
       "    </tr>\n",
       "    <tr>\n",
       "      <th>3</th>\n",
       "      <td>12</td>\n",
       "    </tr>\n",
       "    <tr>\n",
       "      <th>4</th>\n",
       "      <td>12</td>\n",
       "    </tr>\n",
       "  </tbody>\n",
       "</table>\n",
       "</div>"
      ],
      "text/plain": [
       "   Predictions\n",
       "0           12\n",
       "1           12\n",
       "2           12\n",
       "3           12\n",
       "4           12"
      ]
     },
     "execution_count": 428,
     "metadata": {},
     "output_type": "execute_result"
    }
   ],
   "source": [
    "test_pred = pd.DataFrame(test_pred)\n",
    "test_pred = test_pred.rename(columns={0: 'Predictions'})\n",
    "test_pred.head()"
   ]
  },
  {
   "cell_type": "code",
   "execution_count": 374,
   "id": "4a873fca",
   "metadata": {},
   "outputs": [],
   "source": [
    "X_test = pd.DataFrame(X_test)"
   ]
  },
  {
   "cell_type": "code",
   "execution_count": 431,
   "id": "7ac3e81b",
   "metadata": {},
   "outputs": [
    {
     "data": {
      "text/html": [
       "<div>\n",
       "<style scoped>\n",
       "    .dataframe tbody tr th:only-of-type {\n",
       "        vertical-align: middle;\n",
       "    }\n",
       "\n",
       "    .dataframe tbody tr th {\n",
       "        vertical-align: top;\n",
       "    }\n",
       "\n",
       "    .dataframe thead th {\n",
       "        text-align: right;\n",
       "    }\n",
       "</style>\n",
       "<table border=\"1\" class=\"dataframe\">\n",
       "  <thead>\n",
       "    <tr style=\"text-align: right;\">\n",
       "      <th></th>\n",
       "      <th>Beer_style</th>\n",
       "      <th>Predictions</th>\n",
       "      <th>Predicted_beer_style</th>\n",
       "    </tr>\n",
       "  </thead>\n",
       "  <tbody>\n",
       "    <tr>\n",
       "      <th>0</th>\n",
       "      <td>American IPA</td>\n",
       "      <td>12</td>\n",
       "      <td>American IPA</td>\n",
       "    </tr>\n",
       "    <tr>\n",
       "      <th>1</th>\n",
       "      <td>American Double / Imperial IPA</td>\n",
       "      <td>12</td>\n",
       "      <td>American IPA</td>\n",
       "    </tr>\n",
       "    <tr>\n",
       "      <th>2</th>\n",
       "      <td>American Pale Ale (APA)</td>\n",
       "      <td>12</td>\n",
       "      <td>American IPA</td>\n",
       "    </tr>\n",
       "    <tr>\n",
       "      <th>3</th>\n",
       "      <td>Extra Special / Strong Bitter (ESB)</td>\n",
       "      <td>12</td>\n",
       "      <td>American IPA</td>\n",
       "    </tr>\n",
       "    <tr>\n",
       "      <th>4</th>\n",
       "      <td>American Porter</td>\n",
       "      <td>12</td>\n",
       "      <td>American IPA</td>\n",
       "    </tr>\n",
       "    <tr>\n",
       "      <th>5</th>\n",
       "      <td>Extra Special / Strong Bitter (ESB)</td>\n",
       "      <td>12</td>\n",
       "      <td>American IPA</td>\n",
       "    </tr>\n",
       "    <tr>\n",
       "      <th>6</th>\n",
       "      <td>English Brown Ale</td>\n",
       "      <td>12</td>\n",
       "      <td>American IPA</td>\n",
       "    </tr>\n",
       "    <tr>\n",
       "      <th>7</th>\n",
       "      <td>American IPA</td>\n",
       "      <td>12</td>\n",
       "      <td>American IPA</td>\n",
       "    </tr>\n",
       "    <tr>\n",
       "      <th>8</th>\n",
       "      <td>American IPA</td>\n",
       "      <td>12</td>\n",
       "      <td>American IPA</td>\n",
       "    </tr>\n",
       "    <tr>\n",
       "      <th>9</th>\n",
       "      <td>English India Pale Ale (IPA)</td>\n",
       "      <td>12</td>\n",
       "      <td>American IPA</td>\n",
       "    </tr>\n",
       "    <tr>\n",
       "      <th>10</th>\n",
       "      <td>Russian Imperial Stout</td>\n",
       "      <td>12</td>\n",
       "      <td>American IPA</td>\n",
       "    </tr>\n",
       "    <tr>\n",
       "      <th>11</th>\n",
       "      <td>Belgian Strong Dark Ale</td>\n",
       "      <td>12</td>\n",
       "      <td>American IPA</td>\n",
       "    </tr>\n",
       "    <tr>\n",
       "      <th>12</th>\n",
       "      <td>Kristalweizen</td>\n",
       "      <td>12</td>\n",
       "      <td>American IPA</td>\n",
       "    </tr>\n",
       "    <tr>\n",
       "      <th>13</th>\n",
       "      <td>Herbed / Spiced Beer</td>\n",
       "      <td>12</td>\n",
       "      <td>American IPA</td>\n",
       "    </tr>\n",
       "    <tr>\n",
       "      <th>14</th>\n",
       "      <td>American Pale Ale (APA)</td>\n",
       "      <td>12</td>\n",
       "      <td>American IPA</td>\n",
       "    </tr>\n",
       "    <tr>\n",
       "      <th>15</th>\n",
       "      <td>Bière de Champagne / Bière Brut</td>\n",
       "      <td>12</td>\n",
       "      <td>American IPA</td>\n",
       "    </tr>\n",
       "    <tr>\n",
       "      <th>16</th>\n",
       "      <td>American Adjunct Lager</td>\n",
       "      <td>12</td>\n",
       "      <td>American IPA</td>\n",
       "    </tr>\n",
       "    <tr>\n",
       "      <th>17</th>\n",
       "      <td>Kölsch</td>\n",
       "      <td>12</td>\n",
       "      <td>American IPA</td>\n",
       "    </tr>\n",
       "    <tr>\n",
       "      <th>18</th>\n",
       "      <td>American Black Ale</td>\n",
       "      <td>12</td>\n",
       "      <td>American IPA</td>\n",
       "    </tr>\n",
       "    <tr>\n",
       "      <th>19</th>\n",
       "      <td>English Pale Ale</td>\n",
       "      <td>12</td>\n",
       "      <td>American IPA</td>\n",
       "    </tr>\n",
       "  </tbody>\n",
       "</table>\n",
       "</div>"
      ],
      "text/plain": [
       "                             Beer_style  Predictions Predicted_beer_style\n",
       "0                          American IPA           12         American IPA\n",
       "1        American Double / Imperial IPA           12         American IPA\n",
       "2               American Pale Ale (APA)           12         American IPA\n",
       "3   Extra Special / Strong Bitter (ESB)           12         American IPA\n",
       "4                       American Porter           12         American IPA\n",
       "5   Extra Special / Strong Bitter (ESB)           12         American IPA\n",
       "6                     English Brown Ale           12         American IPA\n",
       "7                          American IPA           12         American IPA\n",
       "8                          American IPA           12         American IPA\n",
       "9          English India Pale Ale (IPA)           12         American IPA\n",
       "10               Russian Imperial Stout           12         American IPA\n",
       "11              Belgian Strong Dark Ale           12         American IPA\n",
       "12                        Kristalweizen           12         American IPA\n",
       "13                 Herbed / Spiced Beer           12         American IPA\n",
       "14              American Pale Ale (APA)           12         American IPA\n",
       "15      Bière de Champagne / Bière Brut           12         American IPA\n",
       "16               American Adjunct Lager           12         American IPA\n",
       "17                               Kölsch           12         American IPA\n",
       "18                   American Black Ale           12         American IPA\n",
       "19                     English Pale Ale           12         American IPA"
      ]
     },
     "execution_count": 431,
     "metadata": {},
     "output_type": "execute_result"
    }
   ],
   "source": [
    "# Now, merge the test data set with predictions data\n",
    "df_final = pd.concat([ylist, test_pred, list], axis=1)\n",
    "df_final.head(20)\n"
   ]
  },
  {
   "cell_type": "code",
   "execution_count": null,
   "id": "b62e3a9b",
   "metadata": {},
   "outputs": [],
   "source": [
    "# save the predictions file\n",
    "df_final.to_csv('jasleen_mlr_test_predictions', index=False)"
   ]
  },
  {
   "cell_type": "markdown",
   "id": "74b8ab44",
   "metadata": {},
   "source": [
    "# 9. Test the App"
   ]
  },
  {
   "cell_type": "markdown",
   "id": "1faa382d",
   "metadata": {},
   "source": [
    "#### If Docker is Running,  http://localhost:8080/docs"
   ]
  },
  {
   "cell_type": "markdown",
   "id": "48bb8c3b",
   "metadata": {},
   "source": [
    "https://adsi-at2.herokuapp.com/docs"
   ]
  },
  {
   "cell_type": "code",
   "execution_count": null,
   "id": "0cd40f46",
   "metadata": {},
   "outputs": [],
   "source": [
    "# either enter these values manually\n",
    "brewery_name\t\t            review_aroma\treview_appearance\treview_palate\treview_taste\tbeer_abv       beer_style\n",
    "Vecchio Birraio\t\t                2\t              2.5\t\t            1.5\t           1.5\t        5\t       Hefeweizen\n",
    "Pacific Coast Brewing Company\t    4\t               4\t                  4\t            4\t        10\t       American Double / Imperial Stout\n",
    "Caldera Brewing Company\t\t     \t4\t               4\t\t              4\t            4\t         7         American Strong Ale"
   ]
  },
  {
   "cell_type": "markdown",
   "id": "42095b3d",
   "metadata": {},
   "source": [
    "https://adsi-at2.herokuapp.com/beer/type/prediction?name=Vecchio%20Birraio&aroma=2&appearance=2.5&palate=1.5&taste=1.5&volume=5"
   ]
  },
  {
   "cell_type": "markdown",
   "id": "3b4f925f",
   "metadata": {},
   "source": [
    "https://adsi-at2.herokuapp.com/beer/type/prediction?name=Caldera%20Brewing%20Company%09&aroma=4&appearance=4&palate=4&taste=4&volume=7"
   ]
  },
  {
   "cell_type": "markdown",
   "id": "82257a8d",
   "metadata": {},
   "source": [
    "https://adsi-at2.herokuapp.com/beer/type/prediction?name=Pacific%20Coast%20Brewing%20Company&aroma=4&appearance=4&palate=4&taste=4&volume=10"
   ]
  }
 ],
 "metadata": {
  "interpreter": {
   "hash": "6542be600deb830c4bce82ce8a12106e8b76a038cf3920d451d7fa959f745ece"
  },
  "kernelspec": {
   "display_name": "Python 3 (ipykernel)",
   "language": "python",
   "name": "python3"
  },
  "language_info": {
   "codemirror_mode": {
    "name": "ipython",
    "version": 3
   },
   "file_extension": ".py",
   "mimetype": "text/x-python",
   "name": "python",
   "nbconvert_exporter": "python",
   "pygments_lexer": "ipython3",
   "version": "3.8.12"
  }
 },
 "nbformat": 4,
 "nbformat_minor": 5
}
