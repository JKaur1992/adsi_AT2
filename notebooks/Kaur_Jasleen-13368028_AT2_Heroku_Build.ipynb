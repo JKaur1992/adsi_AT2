{
  "cells": [
    {
      "cell_type": "markdown",
      "metadata": {
        "id": "uQ6wc2HE0pke"
      },
      "source": [
        "# **Lab: Model Deployment**\n",
        "\n"
      ]
    },
    {
      "cell_type": "markdown",
      "metadata": {
        "id": "tQgxLRrvjiJb"
      },
      "source": [
        "## Exercise 2: Deploy FastAPI\n",
        "\n",
        "We will create a web app for serving our trained model from last exercise and deploy it to Heroku\n",
        "\n",
        "**Pre-requisites:**\n",
        "- Create a github account (https://github.com/join)\n",
        "- Install git (https://git-scm.com/book/en/v2/Getting-Started-Installing-Git)\n",
        "- Install Docker (https://docs.docker.com/get-docker/)\n",
        "- Create a Heroku account (https://signup.heroku.com/)\n",
        "\n",
        "The steps are:\n",
        "1.   Setup Repository\n",
        "2.   Build FastApi app\n",
        "3.   Deploy to Heroku\n",
        "4.   Push Changes\n"
      ]
    },
    {
      "cell_type": "markdown",
      "metadata": {
        "id": "smh_LhVjIg9s"
      },
      "source": [
        "### 1. Setup Repository"
      ]
    },
    {
      "cell_type": "markdown",
      "metadata": {
        "id": "_fTLEcebNjhz"
      },
      "source": [
        "**[1.1]** Go to a folder of your choice on your computer (where you store projects)"
      ]
    },
    {
      "cell_type": "code",
      "execution_count": null,
      "metadata": {
        "id": "Pe-loIVTNjqW"
      },
      "outputs": [],
      "source": [
        "# Placeholder for student's code (1 command line)\n",
        "# Task: Go to a folder of your choice on your computer (where you store projects)"
      ]
    },
    {
      "cell_type": "code",
      "execution_count": null,
      "metadata": {
        "id": "4dL8A5y-NjtY"
      },
      "outputs": [],
      "source": [
        "#Solution:\n",
        "cd /Users/jasle1/Desktop/MDSI/ADSI/AT_2"
      ]
    },
    {
      "cell_type": "markdown",
      "metadata": {
        "id": "EHQBJUHEQqcs"
      },
      "source": [
        "**[1.2]** Create a folder called `api` and go inside the created folder"
      ]
    },
    {
      "cell_type": "code",
      "execution_count": null,
      "metadata": {
        "id": "bM-1oZYxQqmO"
      },
      "outputs": [],
      "source": [
        "# Placeholder for student's code (2 commands lines)\n",
        "# Task: Create a folder called api and go inside the created folder"
      ]
    },
    {
      "cell_type": "code",
      "execution_count": null,
      "metadata": {
        "id": "TbseMHf7Qqo2"
      },
      "outputs": [],
      "source": [
        "#Solution:\n",
        "mkdir api\n",
        "cd api"
      ]
    },
    {
      "cell_type": "markdown",
      "metadata": {
        "id": "f2k37MGDMVte"
      },
      "source": [
        "**[1.3]** Copy the `models` folder from previous exercise"
      ]
    },
    {
      "cell_type": "code",
      "execution_count": null,
      "metadata": {
        "id": "4VNddaBFMV7j"
      },
      "outputs": [],
      "source": [
        "# Placeholder for student's code (1 command line)\n",
        "# Task: Copy the trained model from previous exercise into models folder"
      ]
    },
    {
      "cell_type": "code",
      "execution_count": null,
      "metadata": {
        "id": "JehayVOIMV_E"
      },
      "outputs": [],
      "source": [
        "#Solution:\n",
        "cp -r /Users/jasle1/Desktop/MDSI/ADSI/AT_2/adsi_at2/models ."
      ]
    },
    {
      "cell_type": "markdown",
      "metadata": {
        "id": "4MCoAnnacjS1"
      },
      "source": [
        "**[1.4]** Initialise the repo"
      ]
    },
    {
      "cell_type": "code",
      "execution_count": null,
      "metadata": {
        "id": "P-TPhgLMcjaL"
      },
      "outputs": [],
      "source": [
        "# Placeholder for student's code (1 command line)\n",
        "# Task: Initialise the repo"
      ]
    },
    {
      "cell_type": "code",
      "execution_count": null,
      "metadata": {
        "id": "jTTOWPgjckKe"
      },
      "outputs": [],
      "source": [
        "#Solution:\n",
        "git init"
      ]
    },
    {
      "cell_type": "markdown",
      "metadata": {
        "id": "hGw8ot1UdHqg"
      },
      "source": [
        "**[1.5]** Login into Github with your account (https://github.com/) and create a public repo with the name `adv_dsi_lab_4_gmm_api`"
      ]
    },
    {
      "cell_type": "markdown",
      "metadata": {
        "id": "jD4H0EtCdDFr"
      },
      "source": [
        "**[1.6]** In your local repo `adv_dsi_lab_4`, link it with Github (replace the url with your username)"
      ]
    },
    {
      "cell_type": "code",
      "execution_count": null,
      "metadata": {
        "id": "_3fCS9HtdDNw"
      },
      "outputs": [],
      "source": [
        "# Placeholder for student's code (1 command line)\n",
        "# Task: Link repo with Github"
      ]
    },
    {
      "cell_type": "code",
      "execution_count": null,
      "metadata": {
        "id": "lpxHoo3SdDQo"
      },
      "outputs": [],
      "source": [
        "#Solution:\n",
        "git remote add origin https://github.com/JKaur1992/adsi_at2_heroku_fastapi.git"
      ]
    },
    {
      "cell_type": "markdown",
      "metadata": {
        "id": "E7Ae6ABgURiV"
      },
      "source": [
        "**[1.7]** Add you changes to git staging area and commit them"
      ]
    },
    {
      "cell_type": "code",
      "execution_count": null,
      "metadata": {
        "id": "UKqsaMVlURsb"
      },
      "outputs": [],
      "source": [
        "# Placeholder for student's code (2 command lines)\n",
        "# Task: Add you changes to git staging area and commit them"
      ]
    },
    {
      "cell_type": "code",
      "execution_count": null,
      "metadata": {
        "id": "wUTBEa57URvJ"
      },
      "outputs": [],
      "source": [
        "#Solution:\n",
        "git add .\n",
        "git commit -m \"init\""
      ]
    },
    {
      "cell_type": "markdown",
      "metadata": {
        "id": "3oRUjdX0dbBu"
      },
      "source": [
        "**[1.8]** Push your master branch to origin"
      ]
    },
    {
      "cell_type": "code",
      "execution_count": null,
      "metadata": {
        "id": "1UzrKvGtdbGy"
      },
      "outputs": [],
      "source": [
        "# Placeholder for student's code (1 command line)\n",
        "# Task: Push your master branch to origin"
      ]
    },
    {
      "cell_type": "code",
      "execution_count": null,
      "metadata": {
        "id": "Wv0pkcLkdbPL"
      },
      "outputs": [],
      "source": [
        "# Solution:\n",
        "git push --set-upstream origin master"
      ]
    },
    {
      "cell_type": "markdown",
      "metadata": {
        "id": "X6qeQSazZ8Pn"
      },
      "source": [
        "### 2. Build FastApi app"
      ]
    },
    {
      "cell_type": "markdown",
      "metadata": {
        "id": "844V13ChVvER"
      },
      "source": [
        "**[2.2]** Create a file called `requirements.txt` with the following content:\n",
        "\n",
        "`scikit-learn==0.22.1`\n",
        "\n",
        "`pandas==0.25.3`\n",
        "\n",
        "`numpy==1.18.1`\n",
        "\n",
        "`fastapi==0.63.0`\n",
        "\n",
        "`uvicorn==0.13.3`\n",
        "\n",
        "`joblib==1.1.0`"
      ]
    },
    {
      "cell_type": "code",
      "execution_count": null,
      "metadata": {
        "id": "Bk8J-nW_WeOb"
      },
      "outputs": [],
      "source": [
        "# Placeholder for student's code (1 command line)\n",
        "# Task: Create a file called requirements.txt"
      ]
    },
    {
      "cell_type": "code",
      "execution_count": null,
      "metadata": {
        "id": "JKxxxokNWeX4"
      },
      "outputs": [],
      "source": [
        "# Solution:\n",
        "vi requirements.txt"
      ]
    },
    {
      "cell_type": "markdown",
      "metadata": {
        "id": "elPnd9JPQwkD"
      },
      "source": [
        "**[2.3]** Create a folder called `app`"
      ]
    },
    {
      "cell_type": "code",
      "execution_count": null,
      "metadata": {
        "id": "5VlHqFVqQwuC"
      },
      "outputs": [],
      "source": [
        "# Placeholder for student's code (1 command line)\n",
        "# Task: Create 2 folders called app and models"
      ]
    },
    {
      "cell_type": "code",
      "execution_count": null,
      "metadata": {
        "id": "df9ydWQNQww0"
      },
      "outputs": [],
      "source": [
        "# Solution:\n",
        "mkdir app"
      ]
    },
    {
      "cell_type": "markdown",
      "metadata": {
        "id": "yTjwF_joDWnE"
      },
      "source": [
        "**[2.4]** Create a file called `Dockerfile` with the following content:\n",
        "\n",
        "`FROM tiangolo/uvicorn-gunicorn-fastapi:python3.7`\n",
        "\n",
        "`COPY requirements.txt .`\n",
        "\n",
        "`RUN pip3 install -r requirements.txt`\n",
        "\n",
        "`COPY ./app /app`\n",
        "\n",
        "`COPY ./models /models`\n",
        "\n",
        "`CMD [\"gunicorn\", \"-k\", \"uvicorn.workers.UvicornWorker\", \"-c\", \"/gunicorn_conf.py\", \"main:app\"]`"
      ]
    },
    {
      "cell_type": "code",
      "execution_count": null,
      "metadata": {
        "id": "J-etp0_vbHYk"
      },
      "outputs": [],
      "source": [
        "# Placeholder for student's code (1 command line)\n",
        "# Task: Create a file called Dockerfile"
      ]
    },
    {
      "cell_type": "code",
      "execution_count": null,
      "metadata": {
        "id": "xfVIPBh9jmya"
      },
      "outputs": [],
      "source": [
        "# Solution:\n",
        "vi Dockerfile"
      ]
    },
    {
      "cell_type": "markdown",
      "metadata": {
        "id": "hkvRJNc7bLgG"
      },
      "source": [
        "**[2.5]** Create a file called `main.py` in the `app` folder"
      ]
    },
    {
      "cell_type": "code",
      "execution_count": null,
      "metadata": {
        "id": "d2Hf5vFQbLpC"
      },
      "outputs": [],
      "source": [
        "# Placeholder for student's code (1 command line)\n",
        "# Task: Create a file called main.py in the app folder"
      ]
    },
    {
      "cell_type": "code",
      "execution_count": null,
      "metadata": {
        "id": "ra_c0rU3bLr1"
      },
      "outputs": [],
      "source": [
        "# Solution:\n",
        "vi app/main.py"
      ]
    },
    {
      "cell_type": "markdown",
      "metadata": {
        "id": "Fgtw-6bjbcm_"
      },
      "source": [
        "**[2.6]** Inside the `main.py` file, import FastAPI from fastapi, JSONResponse from starlette.responses, load from joblib and pandas"
      ]
    },
    {
      "cell_type": "code",
      "execution_count": null,
      "metadata": {
        "id": "xACZy7_Kbcxb"
      },
      "outputs": [],
      "source": [
        "# Placeholder for student's code (4 lines of Python code)\n",
        "# Task: Inside the main.py file, import FastAPI from fastapi, JSONResponse from starlette.responses, load from joblib and pandas"
      ]
    },
    {
      "cell_type": "code",
      "execution_count": null,
      "metadata": {
        "id": "RIS1P4oUbc2y"
      },
      "outputs": [],
      "source": [
        "# Solution:\n",
        "from fastapi import FastAPI\n",
        "from starlette.responses import JSONResponse\n",
        "from joblib import load\n",
        "import pandas as pd"
      ]
    },
    {
      "cell_type": "markdown",
      "metadata": {
        "id": "aE6WZ2EZb5NX"
      },
      "source": [
        "**[2.7]** Inside the `main.py` file, instantiate a FastAPI() class and save it into a variable called `app`"
      ]
    },
    {
      "cell_type": "code",
      "execution_count": null,
      "metadata": {
        "id": "QnfxnRA0b5Vd"
      },
      "outputs": [],
      "source": [
        "# Placeholder for student's code (1 line of Python code)\n",
        "# Task: Inside the main.py file, instantiate a FastAPI() class and save it into a variable called app"
      ]
    },
    {
      "cell_type": "code",
      "execution_count": null,
      "metadata": {
        "id": "Kove3Um4b5Ya"
      },
      "outputs": [],
      "source": [
        "# Solution:\n",
        "app = FastAPI()"
      ]
    },
    {
      "cell_type": "markdown",
      "metadata": {
        "id": "858kwGWwcLGm"
      },
      "source": [
        "**[2.8]** Inside the `main.py` file, load your trained model from `models` folder and save it into a variable called `gmm_pipe`"
      ]
    },
    {
      "cell_type": "code",
      "execution_count": null,
      "metadata": {
        "id": "8pne9w7hcLMZ"
      },
      "outputs": [],
      "source": [
        "# Placeholder for student's code (1 line of Python code)\n",
        "# Task: Inside the main.py file, load your trained model from models folder and save it into a variable called gmm_pipe"
      ]
    },
    {
      "cell_type": "code",
      "execution_count": null,
      "metadata": {
        "id": "d2mnwsgFcLPY"
      },
      "outputs": [],
      "source": [
        "# Solution:\n",
        "model = load('../models/mlr_scaled_6Pred_Binary-Label_Pipeline.joblib')"
      ]
    },
    {
      "cell_type": "markdown",
      "metadata": {
        "id": "jkw62HxwcZei"
      },
      "source": [
        "**[2.9]** Inside the `main.py` file, create a function called `read_root()` that will return a dictionary with `Hello` as key and `World` as value. Add a decorator to it in order to add a GET endpoint to `app` on the root"
      ]
    },
    {
      "cell_type": "code",
      "execution_count": null,
      "metadata": {
        "id": "NsSwgeGXcZm1"
      },
      "outputs": [],
      "source": [
        "# Placeholder for student's code (3 lines of Python code)\n",
        "# Task: Inside the main.py file, create a function called read_root() that will return a dictionary with Hello as key and World as value. Add a decorator to it in order to add a GET endpoint to app on the root"
      ]
    },
    {
      "cell_type": "code",
      "execution_count": null,
      "metadata": {
        "id": "aTEPhGJPcZ0Z"
      },
      "outputs": [],
      "source": [
        "# Solution:\n",
        "@app.get(\"/\")\n",
        "def read_root():\n",
        "    return 'ML Model for Predicting Beer Style based on user rating criterias (API Expected Parameters) such as Brewery Name AND Beer Appearance, Aroma, Palate, Taste and Volume. Endpoints = /health/beer/type/prediction. github repo link - https://github.com/JKaur1992/adsi_at2_heroku_fastapi'"
      ]
    },
    {
      "cell_type": "markdown",
      "metadata": {
        "id": "vaXTLlJHdEet"
      },
      "source": [
        "**[2.10]** Inside the `main.py` file, create a function called `healthcheck()` that will return `GMM Clustering is all ready to go!`. Add a decorator to it in order to add a GET endpoint to `app` on `/health` with status code `200`"
      ]
    },
    {
      "cell_type": "code",
      "execution_count": null,
      "metadata": {
        "id": "30DYrAzBdElu"
      },
      "outputs": [],
      "source": [
        "# Placeholder for student's code (3 lines of Python code)\n",
        "# Task: Inside the main.py file, create a function called healthcheck() that will return GMM Clustering is all ready to go!. Add a decorator to it in order to add a GET endpoint to app on /health with status code 200"
      ]
    },
    {
      "cell_type": "code",
      "execution_count": null,
      "metadata": {
        "id": "0gICH-K_dEn_"
      },
      "outputs": [],
      "source": [
        "# Solution:\n",
        "@app.get('/health', status_code=200)\n",
        "def healthcheck():\n",
        "    return 'Multinomial Logistic Regression Model is all ready to go!'"
      ]
    },
    {
      "cell_type": "markdown",
      "metadata": {
        "id": "_Xbp4Hf5df2d"
      },
      "source": [
        "**[2.11]** Inside the `main.py` file, create a function called `format_features()` with `genre`,\t`age`, `income` and `spending` as input parameters that will return a dictionary with the names of the features as keys and the inpot parameters as lists"
      ]
    },
    {
      "cell_type": "code",
      "execution_count": null,
      "metadata": {
        "id": "PVerBBrBdf-T"
      },
      "outputs": [],
      "source": [
        "# Placeholder for student's code (multiple lines of Python code)\n",
        "# Task: Inside the main.py file, create a function called format_features() with genre, age, income and spending as input parameters that will return a dictionary with the names of the features as keys and the inpot parameters as lists"
      ]
    },
    {
      "cell_type": "code",
      "execution_count": null,
      "metadata": {
        "id": "b2hB1vjbdgAs"
      },
      "outputs": [],
      "source": [
        "# Solution:\n",
        "def format_features(name: str, aroma: float, appearance: float, palate: float, taste: float, volume: float):\n",
        "    return {\n",
        "        'brewery_name': [name],\n",
        "        'review_aroma': [aroma],\n",
        "        'review_appearance': [appearance],\n",
        "        'review_palate': [palate],\n",
        "        'review_taste': [taste],\n",
        "        'beer_abv': [volume]\n",
        "    }"
      ]
    },
    {
      "cell_type": "markdown",
      "metadata": {
        "id": "1MUQBuVsfhEx"
      },
      "source": [
        "**[2.12]** Inside the `main.py` file, Define a function called `predict` with the following logics:\n",
        "- input parameters: `genre`,\t`age`, `income` and `spending`\n",
        "- logics: format the input parameters as dict, convert it to a dataframe and make prediction with `gmm_pipe`\n",
        "- output: prediction as json\n",
        "\n",
        "Add a decorator to it in order to add a GET endpoint to `app` on `/mall/customers/segmentation`"
      ]
    },
    {
      "cell_type": "code",
      "execution_count": null,
      "metadata": {
        "id": "cguIH80afhLV"
      },
      "outputs": [],
      "source": [
        "# Placeholder for student's code (multiple lines of Python code)\n",
        "# Task: Inside the main.py file, Define a function called predict"
      ]
    },
    {
      "cell_type": "code",
      "execution_count": null,
      "metadata": {
        "id": "xQrzjhoffhNy"
      },
      "outputs": [],
      "source": [
        "# Solution:\n",
        "@app.get(\"/beer/type/prediction\")\n",
        "def predict(name: str, aroma: float, appearance: float, palate: float, taste: float, volume: float):\n",
        "    features = format_features(name, aroma, appearance, palate, taste, volume)\n",
        "    variables = pd.DataFrame(features)\n",
        "    pred = model.predict(variables)\n",
        "    return JSONResponse(pred.tolist())"
      ]
    },
    {
      "cell_type": "markdown",
      "metadata": {
        "id": "C8GqJloHgzMb"
      },
      "source": [
        "**[2.13]** Add you changes to git staging area and commit them"
      ]
    },
    {
      "cell_type": "code",
      "execution_count": null,
      "metadata": {
        "id": "832lVk4PgzUF"
      },
      "outputs": [],
      "source": [
        "# Placeholder for student's code (2 command lines)\n",
        "# Task: Add you changes to git staging area and commit them"
      ]
    },
    {
      "cell_type": "code",
      "execution_count": null,
      "metadata": {
        "id": "-vmWigctgzXL"
      },
      "outputs": [],
      "source": [
        "# Solution:\n",
        "git add .\n",
        "git commit -m \"init\""
      ]
    },
    {
      "cell_type": "markdown",
      "metadata": {
        "id": "O0f6dK_Ag_KK"
      },
      "source": [
        "**[2.14]** Build the image from the Dockerfile"
      ]
    },
    {
      "cell_type": "code",
      "execution_count": null,
      "metadata": {
        "id": "9ge_fmZ0Hr5w"
      },
      "outputs": [],
      "source": [
        "# Placeholder for student's code (1 command line)\n",
        "# Task: Build the image from the Dockerfile"
      ]
    },
    {
      "cell_type": "code",
      "execution_count": null,
      "metadata": {
        "id": "llp9cR3rHunU"
      },
      "outputs": [],
      "source": [
        "# Solution:\n",
        "docker build -t fastapi:latest ."
      ]
    },
    {
      "cell_type": "markdown",
      "metadata": {
        "id": "zO4u0GI-hTOc"
      },
      "source": [
        "**[2.15]** Run the built image with port 8080 mapped to 80"
      ]
    },
    {
      "cell_type": "code",
      "execution_count": null,
      "metadata": {
        "id": "c5sRr-QchTXz"
      },
      "outputs": [],
      "source": [
        "# Placeholder for student's code (1 command line)\n",
        "# Task: Run the built image with port 8080 mapped to 80"
      ]
    },
    {
      "cell_type": "code",
      "execution_count": null,
      "metadata": {
        "id": "n-15O-bChTbD"
      },
      "outputs": [],
      "source": [
        "# Solution:\n",
        "docker run -dit --rm --name adsi_at2_fastapi -p 8080:80 fastapi:latest"
      ]
    },
    {
      "cell_type": "markdown",
      "metadata": {
        "id": "tByfFCRyhv_r"
      },
      "source": [
        "**[2.15]** Open a browser and navigate through:\n",
        "\n",
        "http://localhost:8080\n",
        "\n",
        "http://localhost:8080/health\n",
        "\n",
        "\n",
        "http://localhost:8080/docs"
      ]
    },
    {
      "cell_type": "markdown",
      "metadata": {
        "id": "vZFd_EdqiVZD"
      },
      "source": [
        "### 3. Deploy to Heroku"
      ]
    },
    {
      "cell_type": "markdown",
      "metadata": {
        "id": "X-Adej4aiVg2"
      },
      "source": [
        "**[3.1]** Login into heroku via command line"
      ]
    },
    {
      "cell_type": "code",
      "execution_count": null,
      "metadata": {
        "id": "oVbOeF4fiVlp"
      },
      "outputs": [],
      "source": [
        "# Placeholder for student's code (1 command line)\n",
        "# Task: Login into heroku via command line"
      ]
    },
    {
      "cell_type": "code",
      "execution_count": null,
      "metadata": {
        "id": "swnnT_ihiVo5"
      },
      "outputs": [],
      "source": [
        "# Solution:\n",
        "heroku login"
      ]
    },
    {
      "cell_type": "markdown",
      "metadata": {
        "id": "76F-IAbCimLQ"
      },
      "source": [
        "**[3.2]** Create a heroku project via command line"
      ]
    },
    {
      "cell_type": "code",
      "execution_count": null,
      "metadata": {
        "id": "qVJaJ3FlimT3"
      },
      "outputs": [],
      "source": [
        "# Placeholder for student's code (1 command line)\n",
        "# Task: Create a heroku project via command line"
      ]
    },
    {
      "cell_type": "code",
      "execution_count": null,
      "metadata": {
        "id": "4Q9A-W42imWz"
      },
      "outputs": [],
      "source": [
        "# Solution:\n",
        "heroku create"
      ]
    },
    {
      "cell_type": "markdown",
      "metadata": {
        "id": "5wLL-y2hiyaZ"
      },
      "source": [
        "**[3.3]** Create a file called `heroku.yml` with the following content:\n",
        "\n",
        "<img src='https://drive.google.com/uc?id=1KbVLa2IL48F0aysgpsXTNXUXCgPbQ7dC' width=\"400\" height=\"150\">\n"
      ]
    },
    {
      "cell_type": "code",
      "execution_count": null,
      "metadata": {
        "id": "w1-CZU0eJAv9"
      },
      "outputs": [],
      "source": [
        "# Placeholder for student's code (1 command line)\n",
        "# Task: Create a file called heroku.yml"
      ]
    },
    {
      "cell_type": "code",
      "execution_count": null,
      "metadata": {
        "id": "kTIYvYxMJHQA"
      },
      "outputs": [],
      "source": [
        "# Solution:\n",
        "nano heroku.yml\n",
        "\n",
        "control + X --> to exit"
      ]
    },
    {
      "cell_type": "markdown",
      "metadata": {
        "id": "MmfN94DwjDgk"
      },
      "source": [
        "**[3.4]** Add you changes to git staging area and commit them"
      ]
    },
    {
      "cell_type": "code",
      "execution_count": null,
      "metadata": {
        "id": "3Rnybi5v3ARI"
      },
      "outputs": [],
      "source": [
        "# Placeholder for student's code (2 command lines)\n",
        "# Task: Add you changes to git staging area and commit them"
      ]
    },
    {
      "cell_type": "code",
      "execution_count": null,
      "metadata": {
        "colab": {
          "base_uri": "https://localhost:8080/",
          "height": 35
        },
        "id": "7bUFXnhJ3cLY",
        "outputId": "3186c317-4f0c-4af2-c70d-9f2871b2d8c5"
      },
      "outputs": [
        {
          "data": {
            "application/vnd.google.colaboratory.intrinsic+json": {
              "type": "string"
            },
            "text/plain": [
              "''"
            ]
          },
          "execution_count": 24,
          "metadata": {
            "tags": []
          },
          "output_type": "execute_result"
        }
      ],
      "source": [
        "# Solution:\n",
        "git add .\n",
        "git commit -m \"heroku\""
      ]
    },
    {
      "cell_type": "markdown",
      "metadata": {
        "id": "F9W6NJfxjPjp"
      },
      "source": [
        "**[3.5]** Set the stack of your app to `container`"
      ]
    },
    {
      "cell_type": "code",
      "execution_count": null,
      "metadata": {
        "id": "GV6gUwNCjPyK"
      },
      "outputs": [],
      "source": [
        "heroku stack:set container"
      ]
    },
    {
      "cell_type": "markdown",
      "metadata": {
        "id": "UC-dXvpEjmVn"
      },
      "source": [
        "**[3.6]** Push your change to heroku"
      ]
    },
    {
      "cell_type": "code",
      "execution_count": null,
      "metadata": {
        "id": "ayBdGyDMjmeX"
      },
      "outputs": [],
      "source": [
        "# Placeholder for student's code (2 command lines)\n",
        "# Task: Push your change to heroku"
      ]
    },
    {
      "cell_type": "code",
      "execution_count": null,
      "metadata": {
        "id": "kWHRr-v5jmhP"
      },
      "outputs": [],
      "source": [
        "# Solution:\n",
        "git push heroku master"
      ]
    },
    {
      "cell_type": "markdown",
      "metadata": {
        "id": "1yX0Ocg4hcZM"
      },
      "source": [
        "### 4.   Push changes"
      ]
    },
    {
      "cell_type": "markdown",
      "metadata": {
        "id": "Y9FciIQZj7nX"
      },
      "source": [
        "**[4.1]** Push your snapshot to Github"
      ]
    },
    {
      "cell_type": "code",
      "execution_count": null,
      "metadata": {
        "id": "IR7i6D5hj7uO"
      },
      "outputs": [],
      "source": [
        "# Placeholder for student's code (1 command line)\n",
        "# Task: Push your snapshot to Github"
      ]
    },
    {
      "cell_type": "code",
      "execution_count": null,
      "metadata": {
        "id": "WaVAgJ4Aj7wi"
      },
      "outputs": [],
      "source": [
        "# Solution:\n",
        "git push"
      ]
    },
    {
      "cell_type": "markdown",
      "metadata": {
        "id": "EkQx18jYiEvQ"
      },
      "source": [
        "**[4.7]** Stop the Docker container"
      ]
    },
    {
      "cell_type": "code",
      "execution_count": null,
      "metadata": {
        "id": "OlimZMQsiE7w"
      },
      "outputs": [],
      "source": [
        "# Placeholder for student's code (1 command line)\n",
        "# Task: Stop the Docker container"
      ]
    },
    {
      "cell_type": "code",
      "execution_count": null,
      "metadata": {
        "id": "ovwOAbC5iE-T"
      },
      "outputs": [],
      "source": [
        "# Solution:\n",
        "docker stop adsi_at2_fastapi"
      ]
    },
    {
      "cell_type": "markdown",
      "id": "74b8ab44",
      "metadata": {},
      "source": [
        "# 5. Test the App"
      ]
    },
    {
      "cell_type": "markdown",
      "id": "1faa382d",
      "metadata": {},
      "source": [
        "#### If Docker is Running,  http://localhost:8080/docs"
      ]
    },
    {
      "cell_type": "markdown",
      "id": "48bb8c3b",
      "metadata": {},
      "source": [
        "https://adsi-at2.herokuapp.com/docs"
      ]
    },
    {
      "cell_type": "code",
      "execution_count": null,
      "id": "0cd40f46",
      "metadata": {},
      "outputs": [],
      "source": [
        "# either enter these values manually\n",
        "brewery_name\t\t            review_aroma\treview_appearance\treview_palate\treview_taste\tbeer_abv       beer_style\n",
        "Vecchio Birraio\t\t                2\t              2.5\t\t            1.5\t           1.5\t        5\t       Hefeweizen\n",
        "Pacific Coast Brewing Company\t    4\t               4\t                  4\t            4\t        10\t       American Double / Imperial Stout\n",
        "Caldera Brewing Company\t\t     \t4\t               4\t\t              4\t            4\t         7         American Strong Ale"
      ]
    },
    {
      "cell_type": "markdown",
      "id": "42095b3d",
      "metadata": {},
      "source": [
        "https://adsi-at2.herokuapp.com/beer/type/prediction?name=Vecchio%20Birraio&aroma=2&appearance=2.5&palate=1.5&taste=1.5&volume=5"
      ]
    },
    {
      "cell_type": "markdown",
      "id": "3b4f925f",
      "metadata": {},
      "source": [
        "https://adsi-at2.herokuapp.com/beer/type/prediction?name=Caldera%20Brewing%20Company%09&aroma=4&appearance=4&palate=4&taste=4&volume=7"
      ]
    },
    {
      "cell_type": "markdown",
      "id": "82257a8d",
      "metadata": {},
      "source": [
        "https://adsi-at2.herokuapp.com/beer/type/prediction?name=Pacific%20Coast%20Brewing%20Company&aroma=4&appearance=4&palate=4&taste=4&volume=10"
      ]
    }
  ],
  "metadata": {
    "colab": {
      "collapsed_sections": [],
      "name": "AdvDSI_Lab4_Exercise2_Solutions.ipynb",
      "provenance": []
    },
    "kernelspec": {
      "display_name": "Python 3",
      "language": "python",
      "name": "python3"
    },
    "language_info": {
      "codemirror_mode": {
        "name": "ipython",
        "version": 3
      },
      "file_extension": ".py",
      "mimetype": "text/x-python",
      "name": "python",
      "nbconvert_exporter": "python",
      "pygments_lexer": "ipython3",
      "version": "3.7.6"
    }
  },
  "nbformat": 4,
  "nbformat_minor": 0
}
